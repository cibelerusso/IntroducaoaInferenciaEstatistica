{
 "cells": [
  {
   "cell_type": "markdown",
   "metadata": {
    "id": "THLu9ZgJDzBY"
   },
   "source": [
    "# Estimação pontual e intervalar\n",
    "\n",
    "### SME0221 Inferência Estatística\n",
    "\n",
    "por **Cibele Russo**\n",
    "\n",
    "**ICMC/USP - São Carlos SP**\n",
    "\n",
    "\n",
    "\n"
   ]
  },
  {
   "cell_type": "code",
   "execution_count": 1,
   "metadata": {
    "colab": {
     "base_uri": "https://localhost:8080/",
     "height": 283
    },
    "id": "nR9oAF8zDzBf",
    "outputId": "1cb37033-64f3-4f95-95ba-dfdb994e29e5"
   },
   "outputs": [
    {
     "data": {
      "text/plain": [
       "[<matplotlib.lines.Line2D at 0x7fa13fee6630>]"
      ]
     },
     "execution_count": 1,
     "metadata": {},
     "output_type": "execute_result"
    }
   ],
   "source": [
    "from scipy.stats import norm\n",
    "import matplotlib.pyplot as plt\n",
    "import numpy as np\n",
    "\n",
    "\n",
    "fig, ax = plt.subplots(1, 1)\n",
    "\n",
    "x = np.linspace(norm.ppf(0.01),\n",
    "                norm.ppf(0.99), 100)\n",
    "ax.plot(x, norm.pdf(x),\n",
    "       'r-', lw=5, alpha=0.6, label='norm pdf')"
   ]
  },
  {
   "cell_type": "code",
   "execution_count": 2,
   "metadata": {
    "colab": {
     "base_uri": "https://localhost:8080/"
    },
    "id": "AWPqDYFwDzBh",
    "outputId": "1bc6bee8-64b9-47e4-e982-d339bb588b5c"
   },
   "outputs": [
    {
     "data": {
      "text/plain": [
       "-1.9599639845400545"
      ]
     },
     "execution_count": 2,
     "metadata": {},
     "output_type": "execute_result"
    }
   ],
   "source": [
    "norm.ppf(0.025)"
   ]
  },
  {
   "cell_type": "code",
   "execution_count": 3,
   "metadata": {
    "colab": {
     "base_uri": "https://localhost:8080/"
    },
    "id": "slinaQaNDzBh",
    "outputId": "5db61b71-9746-4123-f069-23570217e10e"
   },
   "outputs": [
    {
     "data": {
      "text/plain": [
       "1.959963984540054"
      ]
     },
     "execution_count": 3,
     "metadata": {},
     "output_type": "execute_result"
    }
   ],
   "source": [
    "norm.ppf(0.975)"
   ]
  },
  {
   "cell_type": "code",
   "execution_count": 4,
   "metadata": {
    "colab": {
     "base_uri": "https://localhost:8080/"
    },
    "id": "ck7zgXEkDzBi",
    "outputId": "5e4d4e55-df12-46ff-f40a-811d05497530"
   },
   "outputs": [
    {
     "data": {
      "text/plain": [
       "-1.6448536269514729"
      ]
     },
     "execution_count": 4,
     "metadata": {},
     "output_type": "execute_result"
    }
   ],
   "source": [
    "norm.ppf(0.05)"
   ]
  },
  {
   "cell_type": "code",
   "execution_count": 5,
   "metadata": {
    "colab": {
     "base_uri": "https://localhost:8080/"
    },
    "id": "EHpZbwdQDzBi",
    "outputId": "e86c3b55-4dcb-48d0-e280-43ff78bdbcb2"
   },
   "outputs": [
    {
     "data": {
      "text/plain": [
       "1.6448536269514722"
      ]
     },
     "execution_count": 5,
     "metadata": {},
     "output_type": "execute_result"
    }
   ],
   "source": [
    "norm.ppf(0.95)"
   ]
  },
  {
   "cell_type": "markdown",
   "metadata": {},
   "source": [
    "## Intervalo de confiança para a média com a variância conhecida"
   ]
  },
  {
   "cell_type": "code",
   "execution_count": 6,
   "metadata": {
    "colab": {
     "base_uri": "https://localhost:8080/"
    },
    "id": "xqGmVc59DzBk",
    "outputId": "cc68a6c1-e934-4b66-94c6-c17154cae4ed"
   },
   "outputs": [
    {
     "name": "stdout",
     "output_type": "stream",
     "text": [
      "Intervalo com 90% de confiança para mu: (3.862, 5.178)\n"
     ]
    }
   ],
   "source": [
    "import numpy as np\n",
    "import scipy.stats as st\n",
    "\n",
    "sigma = 4\n",
    "xbarra = 4.52\n",
    "alpha = 0.10\n",
    "n = 100\n",
    "\n",
    "LI = xbarra - norm.ppf(1-alpha/2) * sigma / np.sqrt(n)\n",
    "\n",
    "LS = xbarra + norm.ppf(1-alpha/2) * sigma / np.sqrt(n)\n",
    "\n",
    "\n",
    "\n",
    "print(\"Intervalo com 90% de confiança para mu: ({:.3f}, {:.3f})\".format(LI,LS))\n"
   ]
  },
  {
   "cell_type": "markdown",
   "metadata": {
    "id": "zy7unlroDzBm"
   },
   "source": [
    "## Intervalo de confiança para a média com a variância desconhecida"
   ]
  },
  {
   "cell_type": "code",
   "execution_count": 7,
   "metadata": {},
   "outputs": [
    {
     "name": "stdout",
     "output_type": "stream",
     "text": [
      "Intervalo com 90% de confiança para mu: (3.226, 5.814)\n"
     ]
    }
   ],
   "source": [
    "from scipy.stats import t\n",
    "\n",
    "s = 6\n",
    "xbarra = 4.52\n",
    "alpha = 0.10\n",
    "n = 60\n",
    "\n",
    "LI = xbarra - t.ppf(1-alpha/2, n-1) * s / np.sqrt(n)\n",
    "\n",
    "LS = xbarra + t.ppf(1-alpha/2, n-1) * s / np.sqrt(n)\n",
    "\n",
    "\n",
    "\n",
    "print(\"Intervalo com 90% de confiança para mu: ({:.3f}, {:.3f})\".format(LI,LS))\n"
   ]
  },
  {
   "cell_type": "code",
   "execution_count": null,
   "metadata": {},
   "outputs": [],
   "source": []
  }
 ],
 "metadata": {
  "colab": {
   "collapsed_sections": [],
   "name": "Estimação Intervalar.ipynb",
   "provenance": []
  },
  "kernelspec": {
   "display_name": "Python 3",
   "language": "python",
   "name": "python3"
  },
  "language_info": {
   "codemirror_mode": {
    "name": "ipython",
    "version": 3
   },
   "file_extension": ".py",
   "mimetype": "text/x-python",
   "name": "python",
   "nbconvert_exporter": "python",
   "pygments_lexer": "ipython3",
   "version": "3.7.3"
  }
 },
 "nbformat": 4,
 "nbformat_minor": 1
}
