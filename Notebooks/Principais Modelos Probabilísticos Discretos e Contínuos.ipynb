{
 "cells": [
  {
   "cell_type": "markdown",
   "metadata": {
    "id": "Udh7EF14uyM1"
   },
   "source": [
    "### Principais modelos probabilísticos\n",
    "\n",
    "#### SME0221 Introdução à Inferência Estatística\n",
    "\n",
    "\n",
    "\n",
    "por **Cibele Russo** \n",
    "\n",
    "**ICMC/USP - São Carlos SP**\n"
   ]
  },
  {
   "cell_type": "markdown",
   "metadata": {
    "id": "T1DMN34iuyM4"
   },
   "source": [
    "## Principais modelos discretos\n",
    "\n",
    "https://docs.scipy.org/doc/scipy/tutorial/stats/discrete.html"
   ]
  },
  {
   "cell_type": "markdown",
   "metadata": {
    "id": "XvjjQdlPuyM5"
   },
   "source": [
    "### Bernoulli"
   ]
  },
  {
   "cell_type": "code",
   "execution_count": 1,
   "metadata": {
    "colab": {
     "base_uri": "https://localhost:8080/",
     "height": 265
    },
    "executionInfo": {
     "elapsed": 1527,
     "status": "ok",
     "timestamp": 1679410614253,
     "user": {
      "displayName": "Cibele Russo",
      "userId": "07272141402608887263"
     },
     "user_tz": 180
    },
    "id": "bOne_bXruyM5",
    "outputId": "1ee8d780-f253-4c11-a01d-3561bcdda9c6"
   },
   "outputs": [
    {
     "data": {
      "image/png": "[encoded data removed]",
      "text/plain": [
       "<Figure size 432x288 with 1 Axes>"
      ]
     },
     "metadata": {
      "needs_background": "light"
     },
     "output_type": "display_data"
    }
   ],
   "source": [
    "import numpy as np\n",
    "\n",
    "from scipy.stats import bernoulli\n",
    "import matplotlib.pyplot as plt\n",
    "fig, ax = plt.subplots(1, 1)\n",
    "\n",
    "# Primeiros 4 momentos da distribuição\n",
    "\n",
    "p = 0.3\n",
    "mean, var, skew, kurt = bernoulli.stats(p, moments='mvsk')\n",
    "\n",
    "x = [0,1]\n",
    "\n",
    "# Função de probabilidade\n",
    "\n",
    "ax.plot(x, bernoulli.pmf(x, p), 'bo', ms=8, label='função de probabilidade: Bernoulli')\n",
    "ax.vlines(x, 0, bernoulli.pmf(x, p), colors='b', lw=5, alpha=0.5)\n",
    "\n",
    "#Alternatively, the distribution object can be called (as a function) to fix the shape and location. This returns a “frozen” RV object holding the given parameters fixed.\n",
    "\n",
    "ax.legend(loc='best', frameon=False)\n",
    "\n",
    "plt.xlim([-0.2,1.2])\n",
    "plt.show()\n",
    "\n"
   ]
  },
  {
   "cell_type": "markdown",
   "metadata": {
    "id": "r1Be2LfYuyM7"
   },
   "source": [
    "### Binomial"
   ]
  },
  {
   "cell_type": "code",
   "execution_count": 2,
   "metadata": {
    "id": "bCrClSxGuyM7"
   },
   "outputs": [],
   "source": [
    "import numpy as np"
   ]
  },
  {
   "cell_type": "code",
   "execution_count": 3,
   "metadata": {
    "colab": {
     "base_uri": "https://localhost:8080/",
     "height": 265
    },
    "executionInfo": {
     "elapsed": 687,
     "status": "ok",
     "timestamp": 1679402950641,
     "user": {
      "displayName": "Cibele Russo",
      "userId": "07272141402608887263"
     },
     "user_tz": 180
    },
    "id": "mx5hXgUNuyM8",
    "outputId": "bbf28c3c-45f3-4ea2-bd9a-b96624f08b94"
   },
   "outputs": [
    {
     "data": {
      "image/png": "[encoded data removed]",
      "text/plain": [
       "<Figure size 432x288 with 1 Axes>"
      ]
     },
     "metadata": {
      "needs_background": "light"
     },
     "output_type": "display_data"
    }
   ],
   "source": [
    "from scipy.stats import binom\n",
    "import matplotlib.pyplot as plt\n",
    "fig, ax = plt.subplots(1, 1)\n",
    "\n",
    "# Primeiros 4 momentos da distribuição\n",
    "n, p = 6, 0.4\n",
    "mean, var, skew, kurt = binom.stats(n, p, moments='mvsk')\n",
    "\n",
    "# Função de probabilidade\n",
    "x = range(7)\n",
    "ax.plot(x, binom.pmf(x, n, p), 'bo', ms=8, label='função de probabilidade: binomial(6,0.4)')\n",
    "ax.vlines(x, 0, binom.pmf(x, n, p), colors='b', lw=5, alpha=0.5)\n",
    "\n",
    "\n",
    "\n",
    "plt.xlim([-0.2,6.2])\n",
    "\n",
    "plt.show()"
   ]
  },
  {
   "cell_type": "markdown",
   "metadata": {
    "id": "qTgZwPpxuyM9"
   },
   "source": [
    "### Geométrica"
   ]
  },
  {
   "cell_type": "code",
   "execution_count": 4,
   "metadata": {
    "colab": {
     "base_uri": "https://localhost:8080/",
     "height": 265
    },
    "executionInfo": {
     "elapsed": 10,
     "status": "ok",
     "timestamp": 1679402950642,
     "user": {
      "displayName": "Cibele Russo",
      "userId": "07272141402608887263"
     },
     "user_tz": 180
    },
    "id": "C113Xo9VuyM9",
    "outputId": "9cd10900-16a0-4bda-c135-db2f6c7dd75e"
   },
   "outputs": [
    {
     "data": {
      "image/png": "[encoded data removed]",
      "text/plain": [
       "<Figure size 432x288 with 1 Axes>"
      ]
     },
     "metadata": {
      "needs_background": "light"
     },
     "output_type": "display_data"
    }
   ],
   "source": [
    "from scipy.stats import geom\n",
    "import matplotlib.pyplot as plt\n",
    "fig, ax = plt.subplots(1, 1)\n",
    "\n",
    "# Primeiros 4 momentos da distribuição\n",
    "p = 0.5\n",
    "mean, var, skew, kurt = geom.stats(p, moments='mvsk')\n",
    "\n",
    "#Display the probability mass function (pmf):\n",
    "\n",
    "x = range(1,7)\n",
    "ax.plot(x, geom.pmf(x, p), 'bo', ms=8, label='função de probabilidade: Geométrica(0.5)')\n",
    "ax.vlines(x, 0, geom.pmf(x, p), colors='b', lw=5, alpha=0.5)\n",
    "\n",
    "ax.legend(loc='best', frameon=False)\n",
    "plt.show()"
   ]
  },
  {
   "cell_type": "markdown",
   "metadata": {
    "id": "fG_Zsg7huyM-"
   },
   "source": [
    "### Poisson"
   ]
  },
  {
   "cell_type": "code",
   "execution_count": 5,
   "metadata": {
    "colab": {
     "base_uri": "https://localhost:8080/",
     "height": 283
    },
    "executionInfo": {
     "elapsed": 997,
     "status": "ok",
     "timestamp": 1679402951631,
     "user": {
      "displayName": "Cibele Russo",
      "userId": "07272141402608887263"
     },
     "user_tz": 180
    },
    "id": "tfvTrkZeuyM_",
    "outputId": "060b1f4d-9959-4694-8b70-1fdc5d4788a5"
   },
   "outputs": [
    {
     "data": {
      "text/plain": [
       "<matplotlib.collections.LineCollection at 0x7fc2d6e42d68>"
      ]
     },
     "execution_count": 5,
     "metadata": {},
     "output_type": "execute_result"
    },
    {
     "data": {
      "image/png": "[encoded data removed]",
      "text/plain": [
       "<Figure size 432x288 with 1 Axes>"
      ]
     },
     "metadata": {
      "needs_background": "light"
     },
     "output_type": "display_data"
    }
   ],
   "source": [
    "from scipy.stats import poisson\n",
    "import matplotlib.pyplot as plt\n",
    "fig, ax = plt.subplots(1, 1)\n",
    "\n",
    "# Primeiros 4 momentos da distribuição\n",
    "mu = 2\n",
    "mean, var, skew, kurt = poisson.stats(mu, moments='mvsk')\n",
    "\n",
    "#Display the probability mass function (pmf):\n",
    "\n",
    "x = np.arange(poisson.ppf(0.01, mu),\n",
    "              poisson.ppf(0.99, mu))\n",
    "ax.plot(x, poisson.pmf(x, mu), 'bo', ms=8, label='fdp: Poisson')\n",
    "ax.vlines(x, 0, poisson.pmf(x, mu), colors='b', lw=5, alpha=0.5)"
   ]
  },
  {
   "cell_type": "markdown",
   "metadata": {
    "id": "E96Ad1OjuyM_"
   },
   "source": [
    "### Hipergeométrica"
   ]
  },
  {
   "cell_type": "code",
   "execution_count": 6,
   "metadata": {
    "colab": {
     "base_uri": "https://localhost:8080/",
     "height": 279
    },
    "executionInfo": {
     "elapsed": 16,
     "status": "ok",
     "timestamp": 1679402951631,
     "user": {
      "displayName": "Cibele Russo",
      "userId": "07272141402608887263"
     },
     "user_tz": 180
    },
    "id": "y54yKRZRuyNA",
    "outputId": "eb1757b5-6db8-4a5b-99c3-4bcab63c8cf9"
   },
   "outputs": [
    {
     "data": {
      "image/png": "[encoded data removed]",
      "text/plain": [
       "<Figure size 432x288 with 1 Axes>"
      ]
     },
     "metadata": {
      "needs_background": "light"
     },
     "output_type": "display_data"
    }
   ],
   "source": [
    "from scipy.stats import hypergeom\n",
    "import matplotlib.pyplot as plt\n",
    "#Suppose we have a collection of 20 animals, of which 7 are dogs. Then if we want to know the probability of finding a given number of dogs if we choose at random 12 of the 20 animals, we can initialize a frozen distribution and plot the probability mass function:\n",
    "\n",
    "[M, n, N] = [20, 7, 12]\n",
    "rv = hypergeom(M, n, N)\n",
    "x = np.arange(0, n+1)\n",
    "pmf_dogs = rv.pmf(x)\n",
    "fig = plt.figure()\n",
    "ax = fig.add_subplot(111)\n",
    "ax.plot(x, pmf_dogs, 'bo')\n",
    "ax.vlines(x, 0, pmf_dogs, lw=2)\n",
    "ax.set_xlabel('# of dogs in our group of chosen animals')\n",
    "ax.set_ylabel('Função de probabilidade: hipergeométrica')\n",
    "plt.show()"
   ]
  },
  {
   "cell_type": "markdown",
   "metadata": {
    "id": "jqbiGk_-uyNA"
   },
   "source": [
    "## Principais modelos contínuos\n",
    "\n",
    "https://docs.scipy.org/doc/scipy/tutorial/stats/continuous.html"
   ]
  },
  {
   "cell_type": "markdown",
   "metadata": {
    "id": "SXmJysuFuyNA"
   },
   "source": [
    "### Uniforme"
   ]
  },
  {
   "cell_type": "code",
   "execution_count": 7,
   "metadata": {
    "colab": {
     "base_uri": "https://localhost:8080/",
     "height": 283
    },
    "executionInfo": {
     "elapsed": 484,
     "status": "ok",
     "timestamp": 1679402952103,
     "user": {
      "displayName": "Cibele Russo",
      "userId": "07272141402608887263"
     },
     "user_tz": 180
    },
    "id": "Rd1t1K0CuyNB",
    "outputId": "4ac09f0c-46ec-4681-d36c-9450874529ee"
   },
   "outputs": [
    {
     "data": {
      "text/plain": [
       "(-0.2, 1.2)"
      ]
     },
     "execution_count": 7,
     "metadata": {},
     "output_type": "execute_result"
    },
    {
     "data": {
      "image/png": "[encoded data removed]",
      "text/plain": [
       "<Figure size 432x288 with 1 Axes>"
      ]
     },
     "metadata": {
      "needs_background": "light"
     },
     "output_type": "display_data"
    }
   ],
   "source": [
    "from scipy.stats import uniform\n",
    "import matplotlib.pyplot as plt\n",
    "fig, ax = plt.subplots(1, 1)\n",
    "#Calculate the first four moments:\n",
    "\n",
    "mean, var, skew, kurt = uniform.stats(moments='mvsk')\n",
    "#Display the probability density function (pdf):\n",
    "\n",
    "x = np.linspace(uniform.ppf(0.01),\n",
    "                uniform.ppf(0.99), 100)\n",
    "ax.plot(x, uniform.pdf(x),\n",
    "       'r-', lw=5, alpha=0.6, label='uniform pdf')\n",
    "plt.xlim([-0.2, 1.2])"
   ]
  },
  {
   "cell_type": "markdown",
   "metadata": {
    "id": "SBTlDrotuyNB"
   },
   "source": [
    "### Normal"
   ]
  },
  {
   "cell_type": "code",
   "execution_count": 8,
   "metadata": {
    "colab": {
     "base_uri": "https://localhost:8080/",
     "height": 283
    },
    "executionInfo": {
     "elapsed": 501,
     "status": "ok",
     "timestamp": 1679402952596,
     "user": {
      "displayName": "Cibele Russo",
      "userId": "07272141402608887263"
     },
     "user_tz": 180
    },
    "id": "B8ir5jCuuyNB",
    "outputId": "777ffcb8-f4a3-487d-dc28-d10133e59dbf"
   },
   "outputs": [
    {
     "data": {
      "text/plain": [
       "(-3.0, 3.0)"
      ]
     },
     "execution_count": 8,
     "metadata": {},
     "output_type": "execute_result"
    },
    {
     "data": {
      "image/png": "[encoded data removed]",
      "text/plain": [
       "<Figure size 432x288 with 1 Axes>"
      ]
     },
     "metadata": {
      "needs_background": "light"
     },
     "output_type": "display_data"
    }
   ],
   "source": [
    "from scipy.stats import norm\n",
    "import matplotlib.pyplot as plt\n",
    "import numpy as np\n",
    "\n",
    "fig, ax = plt.subplots(1, 1)\n",
    "#Calculate the first four moments:\n",
    "\n",
    "mean, var, skew, kurt = norm.stats(moments='mvsk')\n",
    "#Display the probability density function (pdf):\n",
    "\n",
    "x = np.linspace(norm.ppf(0.001),\n",
    "                norm.ppf(0.999), 100)\n",
    "ax.plot(x, norm.pdf(x),\n",
    "       'r-', lw=5, alpha=0.6, label='norm pdf')\n",
    "\n",
    "plt.xlim([-3, 3])"
   ]
  },
  {
   "cell_type": "code",
   "execution_count": 9,
   "metadata": {
    "colab": {
     "base_uri": "https://localhost:8080/"
    },
    "executionInfo": {
     "elapsed": 16,
     "status": "ok",
     "timestamp": 1679402952597,
     "user": {
      "displayName": "Cibele Russo",
      "userId": "07272141402608887263"
     },
     "user_tz": 180
    },
    "id": "tgy1dp3Uwc_f",
    "outputId": "ee7975aa-545a-45f1-fed4-e175573c163f"
   },
   "outputs": [
    {
     "data": {
      "text/plain": [
       "1.6448536269514722"
      ]
     },
     "execution_count": 9,
     "metadata": {},
     "output_type": "execute_result"
    }
   ],
   "source": [
    "norm.ppf(.95)"
   ]
  },
  {
   "cell_type": "markdown",
   "metadata": {
    "id": "7NrKAZX1uyNB"
   },
   "source": [
    "### t-Student"
   ]
  },
  {
   "cell_type": "code",
   "execution_count": 10,
   "metadata": {
    "colab": {
     "base_uri": "https://localhost:8080/",
     "height": 283
    },
    "executionInfo": {
     "elapsed": 14,
     "status": "ok",
     "timestamp": 1679402952598,
     "user": {
      "displayName": "Cibele Russo",
      "userId": "07272141402608887263"
     },
     "user_tz": 180
    },
    "id": "Ktp_vBmNuyNC",
    "outputId": "53c3ceb5-cbe1-4699-878a-14027ee564ab"
   },
   "outputs": [
    {
     "data": {
      "text/plain": [
       "[<matplotlib.lines.Line2D at 0x7fc2d6cb6710>]"
      ]
     },
     "execution_count": 10,
     "metadata": {},
     "output_type": "execute_result"
    },
    {
     "data": {
      "image/png": "[encoded data removed]",
      "text/plain": [
       "<Figure size 432x288 with 1 Axes>"
      ]
     },
     "metadata": {
      "needs_background": "light"
     },
     "output_type": "display_data"
    }
   ],
   "source": [
    "from scipy.stats import t\n",
    "import matplotlib.pyplot as plt\n",
    "fig, ax = plt.subplots(1, 1)\n",
    "\n",
    "#Calculate the first four moments:\n",
    "\n",
    "df = 2.74\n",
    "mean, var, skew, kurt = t.stats(df, moments='mvsk')\n",
    "\n",
    "#Display the probability density function (pdf):\n",
    "\n",
    "x = np.linspace(t.ppf(0.01, df),\n",
    "                t.ppf(0.99, df), 100)\n",
    "ax.plot(x, t.pdf(x, df),\n",
    "       'r-', lw=5, alpha=0.6, label='t pdf')"
   ]
  },
  {
   "cell_type": "markdown",
   "metadata": {
    "id": "PGm0dR9fuyNC"
   },
   "source": [
    "### Qui-quadrado"
   ]
  },
  {
   "cell_type": "code",
   "execution_count": 11,
   "metadata": {
    "colab": {
     "base_uri": "https://localhost:8080/",
     "height": 285
    },
    "executionInfo": {
     "elapsed": 14,
     "status": "ok",
     "timestamp": 1679402953461,
     "user": {
      "displayName": "Cibele Russo",
      "userId": "07272141402608887263"
     },
     "user_tz": 180
    },
    "id": "EW95yVVHuyNC",
    "outputId": "10929500-8b8b-45d2-812a-c378ce5c4aa3"
   },
   "outputs": [
    {
     "data": {
      "text/plain": [
       "[<matplotlib.lines.Line2D at 0x7fc2d6c20390>]"
      ]
     },
     "execution_count": 11,
     "metadata": {},
     "output_type": "execute_result"
    },
    {
     "data": {
      "image/png": "[encoded data removed]",
      "text/plain": [
       "<Figure size 432x288 with 1 Axes>"
      ]
     },
     "metadata": {
      "needs_background": "light"
     },
     "output_type": "display_data"
    }
   ],
   "source": [
    "from scipy.stats import chi2\n",
    "import matplotlib.pyplot as plt\n",
    "fig, ax = plt.subplots(1, 1)\n",
    "\n",
    "#Calculate the first four moments:\n",
    "\n",
    "df = 55\n",
    "mean, var, skew, kurt = chi2.stats(df, moments='mvsk')\n",
    "\n",
    "#Display the probability density function (pdf):\n",
    "\n",
    "x = np.linspace(chi2.ppf(0.01, df),\n",
    "                chi2.ppf(0.99, df), 100)\n",
    "ax.plot(x, chi2.pdf(x, df),\n",
    "       'r-', lw=5, alpha=0.6, label='chi2 pdf')"
   ]
  },
  {
   "cell_type": "markdown",
   "metadata": {
    "id": "JgTRFfXZuyND"
   },
   "source": [
    "### F"
   ]
  },
  {
   "cell_type": "code",
   "execution_count": 12,
   "metadata": {
    "colab": {
     "base_uri": "https://localhost:8080/",
     "height": 283
    },
    "executionInfo": {
     "elapsed": 713,
     "status": "ok",
     "timestamp": 1679402954164,
     "user": {
      "displayName": "Cibele Russo",
      "userId": "07272141402608887263"
     },
     "user_tz": 180
    },
    "id": "s1sW9gKVuyND",
    "outputId": "207e4841-1346-48f8-d0fe-00f3a6a4b0b2"
   },
   "outputs": [
    {
     "data": {
      "text/plain": [
       "[<matplotlib.lines.Line2D at 0x7fc2d6b9edd8>]"
      ]
     },
     "execution_count": 12,
     "metadata": {},
     "output_type": "execute_result"
    },
    {
     "data": {
      "image/png": "[encoded data removed]",
      "text/plain": [
       "<Figure size 432x288 with 1 Axes>"
      ]
     },
     "metadata": {
      "needs_background": "light"
     },
     "output_type": "display_data"
    }
   ],
   "source": [
    "from scipy.stats import f\n",
    "import matplotlib.pyplot as plt\n",
    "fig, ax = plt.subplots(1, 1)\n",
    "\n",
    "#Calculate the first four moments:\n",
    "\n",
    "dfn, dfd = 29, 18\n",
    "mean, var, skew, kurt = f.stats(dfn, dfd, moments='mvsk')\n",
    "\n",
    "#Display the probability density function (pdf):\n",
    "\n",
    "x = np.linspace(f.ppf(0.01, dfn, dfd),\n",
    "                f.ppf(0.99, dfn, dfd), 100)\n",
    "ax.plot(x, f.pdf(x, dfn, dfd),\n",
    "       'r-', lw=5, alpha=0.6, label='f pdf')"
   ]
  },
  {
   "cell_type": "code",
   "execution_count": null,
   "metadata": {
    "id": "FKqD3nIouyND"
   },
   "outputs": [],
   "source": []
  }
 ],
 "metadata": {
  "colab": {
   "provenance": [
    {
     "file_id": "1pui17778mhG79FlSmvY5wcwkYyWHZWVj",
     "timestamp": 1679402927580
    }
   ]
  },
  "kernelspec": {
   "display_name": "Python 3",
   "language": "python",
   "name": "python3"
  },
  "language_info": {
   "codemirror_mode": {
    "name": "ipython",
    "version": 3
   },
   "file_extension": ".py",
   "mimetype": "text/x-python",
   "name": "python",
   "nbconvert_exporter": "python",
   "pygments_lexer": "ipython3",
   "version": "3.7.3"
  }
 },
 "nbformat": 4,
 "nbformat_minor": 5
}
