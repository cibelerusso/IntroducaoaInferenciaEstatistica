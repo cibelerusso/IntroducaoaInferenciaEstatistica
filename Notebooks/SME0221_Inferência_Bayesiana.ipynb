{
  "cells": [
    {
      "cell_type": "markdown",
      "metadata": {
        "id": "DzPgKBitkwE4"
      },
      "source": [
        "# Inferência Bayesiana\n",
        "\n",
        "\n",
        "por **Cibele Russo**\n",
        "\n",
        "**ICMC/USP - São Carlos SP**\n",
        "\n",
        "\n",
        "\n",
        "## Programa\n",
        "\n",
        "\n",
        "- O paradigma Bayesiano.\n",
        "\n",
        "- Os diferentes tipos de prioris. \n",
        "\n",
        "- Distribuições conjugadas. \n",
        "\n",
        "- Estimação Bayesiana. \n",
        "\n",
        "- Densidade preditiva.\n",
        "\n",
        "- Computação Bayesiana.\n",
        "\n",
        "- Exemplos com PyMC3.\n",
        "\n",
        "\n",
        "**Referências e leituras recomendadas:**\n",
        "\n",
        "1. Migon, H. S., Gamerman, D. and Louzada, F. (2014). Statistical Inference: An Integrated Approach, Second Edition, CRC Press.\n",
        "\n",
        "2. Ehlers, R. (2011) Inferência Bayesiana. \n",
        "Disponível em https://sites.icmc.usp.br/ehlers/bayes/bayes.pdf . Acesso em 31/03/2021.\n",
        "\n",
        "2. Caffo, B. (2016). Statistical Inference for Data Science. Leanpub. \n",
        "Disponível em https://leanpub.com/LittleInferenceBook \n",
        "\n",
        "3. https://pt.wikipedia.org/wiki/Infer%C3%AAncia_bayesiana\n",
        "\n",
        "4. https://github.com/datawookie/talks/tree/master/2018-10-12-pycon-johannesburg\n",
        "\n"
      ]
    },
    {
      "cell_type": "markdown",
      "metadata": {
        "id": "UxiXTy-IkwFD"
      },
      "source": [
        "## O paradigma Bayesiano\n",
        "\n",
        "Seja uma amostra aleatória $X_1,\\ldots, X_n$ que vem de um modelo $p(x|\\theta)$, $\\theta \\in \\Theta$ e sejam $x_1,\\ldots,x_n$ os dados observados.\n",
        "\n",
        "\n",
        "Sob o **paradigma clássico ou frequentista**, $\\theta$ é um **parâmetro fixo e desconhecido**.\n",
        "\n",
        "Sob o **paradigma Bayesiano**, consideramos modelos probabilísticos para **representar a incerteza** a respeito de $\\theta$.\n",
        "\n",
        "Se temos informação **a priori** sobre o parâmetro $\\theta$, antes de observar os dados, por que não usá-la?\n"
      ]
    },
    {
      "cell_type": "markdown",
      "metadata": {
        "id": "5DaNE9OFkwFF"
      },
      "source": [
        "### Exemplo:\n",
        "\n",
        "Na aplicação de dados bancários que vimos na Aula 1, suponha que antes de observar os dados, exista um conhecimento prévio de que a proporção p de inadimplentes esteja em torno de 20\\%. Como incorporar esse conhecimento prévio? Uma possibilidade seria considerar uma distribuição a priori beta para a proporção p."
      ]
    },
    {
      "cell_type": "code",
      "execution_count": null,
      "metadata": {
        "colab": {
          "base_uri": "https://localhost:8080/",
          "height": 225
        },
        "id": "IQG8LwifkwFH",
        "outputId": "59eca112-4048-437c-ebf5-6914b7266f25"
      },
      "outputs": [
        {
          "data": {
            "image/png": "[encoded data removed]",
            "text/plain": [
              "<Figure size 936x216 with 4 Axes>"
            ]
          },
          "metadata": {
            "needs_background": "light"
          },
          "output_type": "display_data"
        }
      ],
      "source": [
        "# Mais sobre a distribuição beta: https://pt.wikipedia.org/wiki/Distribui%C3%A7%C3%A3o_beta\n",
        "\n",
        "import numpy as np\n",
        "import matplotlib.pyplot as plt\n",
        "from scipy import stats\n",
        "from scipy.stats import beta\n",
        "\n",
        "# Conjuntos de parâmetros da distribuição a priori para a proporção de inadimplentes\n",
        "a_b_params = ((0.1, 0.1), (1, 1), (2, 8), (10, 5))\n",
        "p = np.linspace(0, 1, 100)\n",
        "\n",
        "# Plota as densidades da beta para cada conjunto de parâmetros\n",
        "plt.figure(figsize=(13,3))\n",
        "for i, (a, b) in enumerate(a_b_params):\n",
        "    plt.subplot(1, len(a_b_params), i+1)\n",
        "\n",
        "    prior = beta(a, b)\n",
        "\n",
        "    plt.plot(p, prior.pdf(p))    \n",
        "    plt.xlabel(r'$p$')\n",
        "    plt.title(\"a = {:.1f}, b = {:.1f}\".format(a, b))\n",
        "    plt.tight_layout()\n"
      ]
    },
    {
      "cell_type": "markdown",
      "metadata": {
        "id": "R4VahvazkwFN"
      },
      "source": [
        "\n",
        "\n",
        "### Teorema de Bayes\n",
        "\n",
        "Ver, por exemplo: https://pt.wikipedia.org/wiki/Teorema_de_Bayes\n",
        "\n",
        "\n",
        "Sejam\n",
        "\n",
        "- $p(\\theta)$ a **distribuição a priori** para $\\theta$.\n",
        "\n",
        "- $l(\\theta,x) = p(x|\\theta)$ a **verossimilhança** de $\\theta$.\n",
        "\n",
        "- $p(\\theta|x)$ a **distribuição a posteriori** de $\\theta$.\n",
        "\n",
        "O Teorema de Bayes ilustra o aumento de informação com a introdução do conhecimento a priori\n",
        "\n",
        "$$p(\\theta|x) = \\displaystyle \\frac{p(x,\\theta)}{p(x)} = \\frac{p(x|\\theta)p(\\theta)}{p(x)} = \\frac{p(x|\\theta) p(\\theta)}{\\displaystyle\\int p(\\theta,x) d\\theta}.$$\n",
        "\n",
        "\n",
        "\n",
        "\n",
        "\n",
        "\n",
        "Em outras palavras:\n",
        "\n",
        "distribuição a posteriori $\\propto$ verossimilhança $\\times$ distribuição a priori\n",
        "\n",
        "\n",
        "\n",
        "\n",
        "\n",
        "Para um valor fixo de $x$, as duas fontes de informação para $\\theta$ são\n",
        "\n",
        "- a função $l(\\theta;x)=p(x|\\theta)$ fornece a plausibilidade ou verossimilhança de cada um dos possíveis valores de $\\theta$ e\n",
        "\n",
        "- $p(\\theta)$ é chamada distribuição a priori de $\\theta$,\n",
        "\n",
        "que, combinadas, levam à distribuição a posteriori de $\\theta$, $p(\\theta|x)$.\n",
        "\n",
        "\n",
        "\n",
        "\n",
        "<img src=\"paradigmabayesiano.png\" width=500 />\n",
        "\n",
        "\n",
        "Assim, a forma usual do teorema de Bayes é\n",
        "$p(\\theta|x) \\propto l(\\theta;x)p(\\theta).$ \n",
        "\n",
        "\n",
        "O termo omitido $p(x)$ é apenas uma constante normalizadora e não depende de $\\theta$. \n",
        "\n"
      ]
    },
    {
      "cell_type": "markdown",
      "metadata": {
        "id": "KgOaqB1WkwFP"
      },
      "source": [
        "Para $x$ fixo, a **verossimilhança**  fornece a **plausibilidade** de cada um dos possíveis valores de $\\theta$.\n",
        "\n",
        "Já a **distribuição a priori** $p(\\theta)$ incorpora o **conhecimento do pesquisador**.\n",
        "\n",
        "Essas duas quantidades combinadas são levadas à **distribuição a posteriori** de $\\theta$.\n",
        "\n",
        "A **distribuição a posteriori** de $\\theta$ dados $x_1,\\ldots,x_n$ observados é dada por:\n",
        "\n",
        "$$p(\\theta|x_1,\\ldots,x_n) = \\displaystyle\\frac{p(x_1,\\ldots,x_n|\\theta)p(\\theta)}{\\int_{\\Theta} p(x_1,\\ldots,x_n|\\theta)p(\\theta)d\\theta}$$\n",
        "\n",
        "\n",
        "\n",
        "\n",
        "- $p(x_1,\\ldots,x_n|\\theta) = \\displaystyle\\prod_{i=1}^n p(x_i|\\theta)  = L(\\theta|x_1,\\ldots,x_n)$ é a **função de verossimilhança** de $\\theta$.\n",
        "\n",
        "\n",
        "- O denominador $$\\int_{\\Theta} p(x_1,\\ldots,x_n|\\theta)p(\\theta)d\\theta = C(x_1,\\ldots,x_n).$$\n",
        "\n",
        "\n",
        "É comum escrever que \n",
        "\n",
        "\n",
        "$p(\\theta|x_1,\\ldots,x_n) = \\displaystyle\\frac{ L(\\theta|x_1,\\ldots,x_n) p(\\theta)}{ C(x_1,\\ldots,x_n)}\\propto L(\\theta|x_1,\\ldots,x_n) p(\\theta)$,\n",
        "\n"
      ]
    },
    {
      "cell_type": "markdown",
      "metadata": {
        "id": "DP2kJ5mSkwFR"
      },
      "source": [
        "## Distribuição preditiva\n",
        "\n",
        "A constante normalizadora da posteriori pode ser facilmente recuperada pois $p(\\theta|x)=kp(x|\\theta)p(\\theta)$ onde\n",
        "\n",
        "$k^{-1}= \\int p(x|\\theta)p(\\theta)d\\theta=E_\\theta[p(X|\\theta)]= p(x)$\n",
        "\n",
        "chamada **distribuição preditiva** (ou marginal) de $X$. \n",
        "\n",
        "\n",
        "Esta é a distribuição esperada para a observação $x$ dado $\\theta$. Assim,\n",
        "\n",
        "- Antes de observar $X$ podemos checar a adequação da priori fazendo predições via $p(x)$.\n",
        "\n",
        "- Se $X$ observado recebia pouca probabilidade preditiva então o modelo deve ser questionado, revisado, ou existe observação aberrante.\n",
        "\n",
        "\n",
        "\n",
        "\n",
        "Se, após observar $X=x$, estamos interessados na previsão de uma quantidade $Y$, também relacionada com $\\theta$, e descrita probabilisticamente por $p(y|\\theta)$ então\n",
        "\n",
        "$$p(y|x)=\\int p(y,\\theta| x)d\\theta =\\displaystyle \\int p(y|\\theta,x)p(\\theta| x)d\\theta$$\n",
        "\n",
        "Os conceitos de priori e posteriori são relativos àquela observação que está sendo considerada no momento. Assim, $p(\\theta| x)$ é a posteriori de $\\theta$ em relação a $X$ (que já foi observado) mas é a priori de $\\theta$ em relação a $Y$ (que não foi observado ainda).\n",
        "\n",
        "Após observar $Y=y$ uma nova posteriori (relativa a $X=x$ e $Y=y$) é obtida aplicando-se novamente o teorema de Bayes. \n",
        "\n"
      ]
    },
    {
      "cell_type": "markdown",
      "metadata": {
        "id": "L1Gr8nrfkwFX"
      },
      "source": [
        "## Os diferentes tipos de prioris\n",
        "\n",
        "\n",
        "Destacamos as distribuições a priori \n",
        "\n",
        "- **Priori não-informativa**\n",
        "    - Uniforme\n",
        "    - Priori vaga (às vezes imprópria)\n",
        "\n",
        "- **Priori informativa**\n",
        "    - Conhecimento do pesquisador dá informação sobre os parâmetros\n",
        "\n",
        "- **Priori conjugada**\n",
        "    - Priori e posteriori tem a mesma distribuição, a menos dos parâmetros (em geral facilita os cálculos)"
      ]
    },
    {
      "cell_type": "markdown",
      "metadata": {
        "id": "QiApEE6GkwFY"
      },
      "source": [
        "### Distribuições conjugadas\n",
        "\n",
        "Leituras recomendadas:\n",
        "\n",
        "- Notas Ricardo Ehlers e Paulo Justiniano: http://www.leg.ufpr.br/~paulojus/CE227/ce227/node1.html\n",
        "\n",
        "- Conjugate Prior Explained, with examples & proofs: https://towardsdatascience.com/conjugate-prior-explained-75957dc80bfb\n",
        "\n",
        "\n",
        "\n",
        "Vantagem de usar distribuições a priori conjugadas: principalmente **ganho de custo computacional.**\n",
        "\n",
        " <table>\n",
        "  <tr>\n",
        "    <td> </td>\n",
        "    <th>Priori</th>\n",
        "    <th>Núcleo da Verossimilhança</th>\n",
        "    <th>Posteriori</th>\n",
        "  </tr>\n",
        "  <tr>\n",
        "    <th>$\\theta$ proporção</th>\n",
        "    <td>Beta</td>\n",
        "    <td>Bernoulli </td>\n",
        "    <td>Beta</td>    \n",
        "  </tr>\n",
        "  <tr>\n",
        "    <th>$\\theta$ média</th>\n",
        "    <td> Normal</td>\n",
        "    <td> Normal </td>\n",
        "    <td> Normal</td>\n",
        "  </tr>\n",
        "      <tr>\n",
        "    <th>taxa de falha</th>\n",
        "    <td> Gama</td>\n",
        "    <td> Poisson </td>\n",
        "    <td> Gama</td>\n",
        "  </tr>\n",
        "          <tr>\n",
        "    <th></th>\n",
        "    <td> Dirichlet</td>\n",
        "    <td> Multinomial </td>\n",
        "    <td> Dirichlet</td>\n",
        "  </tr>\n",
        "</table> "
      ]
    },
    {
      "cell_type": "markdown",
      "metadata": {
        "id": "a0qWN-BSkwFZ"
      },
      "source": [
        "### Exemplo de priori conjugada beta-Bernoulli\n",
        "\n",
        "Ver https://towardsdatascience.com/conjugate-prior-explained-75957dc80bfb\n",
        "\n",
        "\n",
        "\n",
        "No exemplo do banco, se considerarmos que\n",
        "\n",
        "\n",
        "- $X=\\left\\{ \\begin{array}{lll} 1, &\\mbox{se o cliente é classificado como inadimplente,} \\\\ 0, &\\mbox{caso contrário.} \\end{array}\\right.$\n",
        "\n",
        "\n",
        "- $X \\sim Bernoulli(p)$\n",
        "\n",
        "\n",
        "- Verossimilhança:\n",
        "\n",
        "Para $n$ suficientemente grande, pelo TLC sabemos que a distribuição amostral de $\\bar{X}$ se aproxima da normal $$\\bar{X} \\sim N\\left(p, \\displaystyle{\\frac{p(1-p)}{n}}\\right)$$\n",
        "\n",
        "\n",
        "Além disso, $Y = \\sum_{i=1}^{n} X_i \\sim binomial(n, p)$. \n",
        "\n",
        "\n",
        "\n",
        "\n",
        "- Priori: $p \\sim beta(2, 8)$\n",
        "\n",
        "\n",
        "- Posteriori: $p|k \\sim beta(k+a, n-k+b)$\n",
        "\n",
        "onde $k$ é o número de sucessos observados na amostra.\n",
        "\n"
      ]
    },
    {
      "cell_type": "code",
      "execution_count": 10,
      "metadata": {
        "id": "d8b1TdEOkwFa",
        "outputId": "4bbe63cd-afdb-47ae-f17e-329e7db6b4d0",
        "colab": {
          "base_uri": "https://localhost:8080/",
          "height": 270
        }
      },
      "outputs": [
        {
          "output_type": "execute_result",
          "data": {
            "text/plain": [
              "       Cliente Sexo  Idade  Empresa  Salario Saldo_cc Saldo_poupança  \\\n",
              "33227    33227    M     38  Privada     6467   993.18            0.0   \n",
              "64805    64805    M     33  Privada     5764  1167.27            0.0   \n",
              "39764    39764    F     35  Privada     5417    667.3            0.0   \n",
              "51271    51271    M     36  Privada     5858   846.53            0.0   \n",
              "9699      9699    M     32  Privada     5579    768.9       16801.57   \n",
              "\n",
              "      Saldo_investimento Devedor_cartao  Inadimplente  \n",
              "33227                0.0        2038.32             1  \n",
              "64805                0.0        4617.05             1  \n",
              "39764                0.0        5726.83             1  \n",
              "51271                0.0        1723.74             1  \n",
              "9699             8138.71            0.0             0  "
            ],
            "text/html": [
              "\n",
              "  <div id=\"df-c99edfc6-1e44-42e1-8086-d5f1d3e0d87d\">\n",
              "    <div class=\"colab-df-container\">\n",
              "      <div>\n",
              "<style scoped>\n",
              "    .dataframe tbody tr th:only-of-type {\n",
              "        vertical-align: middle;\n",
              "    }\n",
              "\n",
              "    .dataframe tbody tr th {\n",
              "        vertical-align: top;\n",
              "    }\n",
              "\n",
              "    .dataframe thead th {\n",
              "        text-align: right;\n",
              "    }\n",
              "</style>\n",
              "<table border=\"1\" class=\"dataframe\">\n",
              "  <thead>\n",
              "    <tr style=\"text-align: right;\">\n",
              "      <th></th>\n",
              "      <th>Cliente</th>\n",
              "      <th>Sexo</th>\n",
              "      <th>Idade</th>\n",
              "      <th>Empresa</th>\n",
              "      <th>Salario</th>\n",
              "      <th>Saldo_cc</th>\n",
              "      <th>Saldo_poupança</th>\n",
              "      <th>Saldo_investimento</th>\n",
              "      <th>Devedor_cartao</th>\n",
              "      <th>Inadimplente</th>\n",
              "    </tr>\n",
              "  </thead>\n",
              "  <tbody>\n",
              "    <tr>\n",
              "      <th>33227</th>\n",
              "      <td>33227</td>\n",
              "      <td>M</td>\n",
              "      <td>38</td>\n",
              "      <td>Privada</td>\n",
              "      <td>6467</td>\n",
              "      <td>993.18</td>\n",
              "      <td>0.0</td>\n",
              "      <td>0.0</td>\n",
              "      <td>2038.32</td>\n",
              "      <td>1</td>\n",
              "    </tr>\n",
              "    <tr>\n",
              "      <th>64805</th>\n",
              "      <td>64805</td>\n",
              "      <td>M</td>\n",
              "      <td>33</td>\n",
              "      <td>Privada</td>\n",
              "      <td>5764</td>\n",
              "      <td>1167.27</td>\n",
              "      <td>0.0</td>\n",
              "      <td>0.0</td>\n",
              "      <td>4617.05</td>\n",
              "      <td>1</td>\n",
              "    </tr>\n",
              "    <tr>\n",
              "      <th>39764</th>\n",
              "      <td>39764</td>\n",
              "      <td>F</td>\n",
              "      <td>35</td>\n",
              "      <td>Privada</td>\n",
              "      <td>5417</td>\n",
              "      <td>667.3</td>\n",
              "      <td>0.0</td>\n",
              "      <td>0.0</td>\n",
              "      <td>5726.83</td>\n",
              "      <td>1</td>\n",
              "    </tr>\n",
              "    <tr>\n",
              "      <th>51271</th>\n",
              "      <td>51271</td>\n",
              "      <td>M</td>\n",
              "      <td>36</td>\n",
              "      <td>Privada</td>\n",
              "      <td>5858</td>\n",
              "      <td>846.53</td>\n",
              "      <td>0.0</td>\n",
              "      <td>0.0</td>\n",
              "      <td>1723.74</td>\n",
              "      <td>1</td>\n",
              "    </tr>\n",
              "    <tr>\n",
              "      <th>9699</th>\n",
              "      <td>9699</td>\n",
              "      <td>M</td>\n",
              "      <td>32</td>\n",
              "      <td>Privada</td>\n",
              "      <td>5579</td>\n",
              "      <td>768.9</td>\n",
              "      <td>16801.57</td>\n",
              "      <td>8138.71</td>\n",
              "      <td>0.0</td>\n",
              "      <td>0</td>\n",
              "    </tr>\n",
              "  </tbody>\n",
              "</table>\n",
              "</div>\n",
              "      <button class=\"colab-df-convert\" onclick=\"convertToInteractive('df-c99edfc6-1e44-42e1-8086-d5f1d3e0d87d')\"\n",
              "              title=\"Convert this dataframe to an interactive table.\"\n",
              "              style=\"display:none;\">\n",
              "        \n",
              "  <svg xmlns=\"http://www.w3.org/2000/svg\" height=\"24px\"viewBox=\"0 0 24 24\"\n",
              "       width=\"24px\">\n",
              "    <path d=\"M0 0h24v24H0V0z\" fill=\"none\"/>\n",
              "    <path d=\"M18.56 5.44l.94 2.06.94-2.06 2.06-.94-2.06-.94-.94-2.06-.94 2.06-2.06.94zm-11 1L8.5 8.5l.94-2.06 2.06-.94-2.06-.94L8.5 2.5l-.94 2.06-2.06.94zm10 10l.94 2.06.94-2.06 2.06-.94-2.06-.94-.94-2.06-.94 2.06-2.06.94z\"/><path d=\"M17.41 7.96l-1.37-1.37c-.4-.4-.92-.59-1.43-.59-.52 0-1.04.2-1.43.59L10.3 9.45l-7.72 7.72c-.78.78-.78 2.05 0 2.83L4 21.41c.39.39.9.59 1.41.59.51 0 1.02-.2 1.41-.59l7.78-7.78 2.81-2.81c.8-.78.8-2.07 0-2.86zM5.41 20L4 18.59l7.72-7.72 1.47 1.35L5.41 20z\"/>\n",
              "  </svg>\n",
              "      </button>\n",
              "      \n",
              "  <style>\n",
              "    .colab-df-container {\n",
              "      display:flex;\n",
              "      flex-wrap:wrap;\n",
              "      gap: 12px;\n",
              "    }\n",
              "\n",
              "    .colab-df-convert {\n",
              "      background-color: #E8F0FE;\n",
              "      border: none;\n",
              "      border-radius: 50%;\n",
              "      cursor: pointer;\n",
              "      display: none;\n",
              "      fill: #1967D2;\n",
              "      height: 32px;\n",
              "      padding: 0 0 0 0;\n",
              "      width: 32px;\n",
              "    }\n",
              "\n",
              "    .colab-df-convert:hover {\n",
              "      background-color: #E2EBFA;\n",
              "      box-shadow: 0px 1px 2px rgba(60, 64, 67, 0.3), 0px 1px 3px 1px rgba(60, 64, 67, 0.15);\n",
              "      fill: #174EA6;\n",
              "    }\n",
              "\n",
              "    [theme=dark] .colab-df-convert {\n",
              "      background-color: #3B4455;\n",
              "      fill: #D2E3FC;\n",
              "    }\n",
              "\n",
              "    [theme=dark] .colab-df-convert:hover {\n",
              "      background-color: #434B5C;\n",
              "      box-shadow: 0px 1px 3px 1px rgba(0, 0, 0, 0.15);\n",
              "      filter: drop-shadow(0px 1px 2px rgba(0, 0, 0, 0.3));\n",
              "      fill: #FFFFFF;\n",
              "    }\n",
              "  </style>\n",
              "\n",
              "      <script>\n",
              "        const buttonEl =\n",
              "          document.querySelector('#df-c99edfc6-1e44-42e1-8086-d5f1d3e0d87d button.colab-df-convert');\n",
              "        buttonEl.style.display =\n",
              "          google.colab.kernel.accessAllowed ? 'block' : 'none';\n",
              "\n",
              "        async function convertToInteractive(key) {\n",
              "          const element = document.querySelector('#df-c99edfc6-1e44-42e1-8086-d5f1d3e0d87d');\n",
              "          const dataTable =\n",
              "            await google.colab.kernel.invokeFunction('convertToInteractive',\n",
              "                                                     [key], {});\n",
              "          if (!dataTable) return;\n",
              "\n",
              "          const docLinkHtml = 'Like what you see? Visit the ' +\n",
              "            '<a target=\"_blank\" href=https://colab.research.google.com/notebooks/data_table.ipynb>data table notebook</a>'\n",
              "            + ' to learn more about interactive tables.';\n",
              "          element.innerHTML = '';\n",
              "          dataTable['output_type'] = 'display_data';\n",
              "          await google.colab.output.renderOutput(dataTable, element);\n",
              "          const docLink = document.createElement('div');\n",
              "          docLink.innerHTML = docLinkHtml;\n",
              "          element.appendChild(docLink);\n",
              "        }\n",
              "      </script>\n",
              "    </div>\n",
              "  </div>\n",
              "  "
            ]
          },
          "metadata": {},
          "execution_count": 10
        }
      ],
      "source": [
        "import pandas as pd\n",
        "\n",
        "\n",
        "# Dados banco - Leitura dos dados\n",
        "dados = pd.read_csv('amostra_banco.csv', index_col=0, decimal=',')\n",
        "\n",
        "dados.head()"
      ]
    },
    {
      "cell_type": "code",
      "execution_count": 18,
      "metadata": {
        "id": "7YhJJXIhkwFc",
        "outputId": "35f83545-f7b7-4837-a62b-67befa570ec4",
        "colab": {
          "base_uri": "https://localhost:8080/"
        }
      },
      "outputs": [
        {
          "output_type": "execute_result",
          "data": {
            "text/plain": [
              "0.242"
            ]
          },
          "metadata": {},
          "execution_count": 18
        }
      ],
      "source": [
        "import random\n",
        "from scipy.stats import beta\n",
        "\n",
        "a = 2\n",
        "b = 8\n",
        "\n",
        "n = len(dados)\n",
        "k = dados['Inadimplente'].sum()\n",
        "posteriori = beta(a + k, n - k + b) \n",
        "\n",
        "k/n"
      ]
    },
    {
      "cell_type": "code",
      "execution_count": 19,
      "metadata": {
        "id": "WMjMFn1QkwFd",
        "outputId": "a32eacf1-d1cf-44ad-a40e-5208796f89da",
        "colab": {
          "base_uri": "https://localhost:8080/",
          "height": 262
        }
      },
      "outputs": [
        {
          "output_type": "execute_result",
          "data": {
            "text/plain": [
              "<matplotlib.legend.Legend at 0x7f7344c703d0>"
            ]
          },
          "metadata": {},
          "execution_count": 19
        },
        {
          "output_type": "display_data",
          "data": {
            "text/plain": [
              "<Figure size 1440x432 with 1 Axes>"
            ],
            "image/png": "[encoded data removed]"
          },
          "metadata": {
            "needs_background": "light"
          }
        }
      ],
      "source": [
        "from scipy.stats import norm\n",
        "import numpy as np\n",
        "import matplotlib.pyplot as plt\n",
        "\n",
        "# Eixo x entre 0 e 1 de .002 em .002.\n",
        "x_axis = np.arange(0, 1, 0.002)\n",
        "\n",
        "# Plota as densidades da beta para cada conjunto de parâmetros\n",
        "plt.figure(figsize=(20,6))\n",
        "    \n",
        "prior = beta(a, b)\n",
        "\n",
        "p_chapeu = dados['Inadimplente'].mean()\n",
        "dp = np.sqrt(p_chapeu*(1-p_chapeu)/n)\n",
        "\n",
        "media = p_chapeu\n",
        "dp = np.sqrt(media*(1-media)/n)\n",
        "\n",
        "plt.s = 0\n",
        "plt.rcParams.update({'font.size': 22})\n",
        "\n",
        "plt.plot(x_axis, norm.pdf(x_axis, media, dp), label='verossimilhança')\n",
        "plt.plot(x_axis, prior.pdf(x_axis), label='priori')\n",
        "plt.plot(x_axis, posteriori.pdf(x_axis), label='posteriori')    \n",
        "plt.xlabel(r'$p$')\n",
        "plt.legend()\n"
      ]
    },
    {
      "cell_type": "code",
      "execution_count": null,
      "metadata": {
        "id": "_laDm83-kwFf"
      },
      "outputs": [],
      "source": [
        ""
      ]
    },
    {
      "cell_type": "code",
      "execution_count": 21,
      "metadata": {
        "id": "WcVtKminkwFf",
        "outputId": "eb5ae773-b86f-413d-a48c-aca6ee5f0b30",
        "colab": {
          "base_uri": "https://localhost:8080/"
        }
      },
      "outputs": [
        {
          "output_type": "stream",
          "name": "stdout",
          "text": [
            "Média: 0.24\n",
            "Intervalo com 95% de credibilidade: (0.205, 0.279)\n"
          ]
        }
      ],
      "source": [
        "# Estimador bayesiano EAP (Esperança a posteriori)\n",
        "print('Média: %.2f' % posteriori.mean())\n",
        "\n",
        "\n",
        "# E para calcular um intervalo de credibilidade, decidimos uma probabilidade \n",
        "# Por exemplo 95% para a credibilidade\n",
        "# Uma maneira seria definir que 2,5% de cada cauda como os limites do intervalo (chamado intervalo simétrico)\n",
        "# Este método é válido quando a posteriori se aproxima de uma distribuição simétrica, pois nesse caso tende a gerar o intervalo com menor amplitude\n",
        "# A seguir, apresentamos outra solução com um intervalo de credibilidade de menor amplitude.\n",
        "\n",
        "LI = posteriori.ppf(.025)\n",
        "LS = posteriori.ppf(.975)\n",
        "print(\"Intervalo com 95% de credibilidade: ({:.3f}, {:.3f})\".format(LI,LS))\n"
      ]
    },
    {
      "cell_type": "markdown",
      "metadata": {
        "id": "G4PWnA1akwFg"
      },
      "source": [
        "## Estimação Bayesiana\n",
        "\n",
        "\n",
        "Leituras recomendadas:\n",
        "\n",
        "- Notas Ricardo Ehlers e Paulo Justiniano: http://www.leg.ufpr.br/~paulojus/CE227/ce227/node1.html\n",
        "\n",
        "- Migon, H. S., Gamerman, D. and Louzada, F. (2014). Statistical Inference: An Integrated Approach, Second Edition, CRC Press.\n",
        "\n",
        "\n",
        "### Introdução à Teoria da Decisão\n",
        "\n",
        "Um problema de decisão fica completamente especificado pela descrição dos seguintes espaços:\n",
        "\n",
        "(i) Espaço do parâmetro ou estados da natureza, $\\Theta$. \n",
        "    \n",
        "(ii) Espaço dos resultados possíveis de um experimento, $\\Omega$. \n",
        "    \n",
        "(iii) Espaço de possíveis ações, $A$. \n",
        "\n",
        "Uma regra de decisão $\\delta$ é uma função definida em $\\Omega$ que assume valores em $A$, i.e. $\\delta:\\Omega\\rightarrow A$. A cada decisão $\\delta$ e a cada possível valor do parâmetro $\\theta$ podemos associar uma **perda** $L(\\delta,\\theta)$ assumindo valores positivos. Definimos assim uma **função de perda**.\n",
        "\n",
        "**Definição:** O **risco de uma regra de decisão**, denotado por $R(\\delta)$, é a **perda esperada a posteriori**, i.e. $$R(\\delta)=E_{\\theta\\vert\\mathbf{x}} [L(\\delta,\\theta)].$$\n",
        "\n",
        "Uma regra de decisão $\\delta^*$ é **ótima** se tem risco mínimo, i.e. $R(\\delta^*)<R(\\delta), ~\\forall \\delta$. Esta regra será denominada **regra de Bayes** e seu risco, **risco de Bayes**. "
      ]
    },
    {
      "cell_type": "markdown",
      "metadata": {
        "id": "zXWjrdc7kwFg"
      },
      "source": [
        "**Exemplo**:\n",
        "\n",
        "Um laboratório farmaceutico deve decidir pelo lançamento ou não de uma nova droga no mercado. O laboratório só lançará a droga se achar que ela é eficiente mas isto é exatamente o que é desconhecido. \n",
        " \n",
        " Podemos associar um parâmetro $\\theta$ aos estados da natureza: \n",
        " \n",
        "- droga é eficiente ($\\theta=1$), \n",
        " \n",
        "- droga não é eficiente ($\\theta=0$) \n",
        " \n",
        "e as possíveis ações como \n",
        "\n",
        " \n",
        "- lança a droga ($\\delta=1$), \n",
        " \n",
        "- não lança a droga ($\\delta=0$). \n",
        " \n",
        " Suponha que foi possível construir a seguinte tabela de perdas levando em conta a eficiência da droga,\n",
        " \n",
        " <table>\n",
        "  <tr>\n",
        "      <th></th> \t\n",
        "    <th>eficiente ($\\theta=1$)</th> \t\n",
        "    <th>não eficiente ($\\theta=0$)</th>\n",
        "  </tr>\n",
        "  <tr>      \n",
        "    <th>lança ($\\delta=1$)</th> \t\n",
        "    <th>-500</th> \t\n",
        "    <th>600</th>\n",
        "    </tr>\n",
        "    <tr>      \n",
        "    <th> não lança ($\\delta=0$)</th> \t\n",
        "    <th>1500</th> \t\n",
        "    <th>100</th>\n",
        "    </tr>\n",
        "  </table>\n",
        "       \n",
        "\n",
        "Vale notar que estas perdas traduzem uma **avaliação subjetiva** em relação à gravidade dos erros cometidos.\n",
        "\n",
        "Suponha agora que a incerteza sobre os estados da natureza é descrita por\n",
        "\n",
        "$P(\\theta=1)=\\pi$, $0<\\pi<1$ \n",
        "\n",
        "avaliada na distribuição atualizada de $\\theta$ (seja a priori ou a posteriori). \n",
        "\n",
        "\n",
        "Note que, para $\\delta$ fixo, $L(\\delta,\\theta)$ é uma variável aleatória discreta assumindo apenas dois valores com probabilidades $\\pi$ e $1-\\pi$. \n",
        "\n",
        "Assim, usando a definição de risco obtemos que\n",
        "\n",
        "\n",
        "$\\displaystyle R(\\delta=0) = \\displaystyle E(L(0,\\theta))=\\pi 1500 +(1-\\pi) 100 = 1400\\pi + 100$ \t\n",
        "\n",
        "$\\displaystyle R(\\delta=1) = \\displaystyle E(L(1,\\theta))=\\pi(-500)+(1-\\pi) 600 =-1100\\pi + 600$ \t \n",
        "\n",
        "Uma questão que se coloca aqui é, para que valores de $\\pi$ a regra de Bayes será de lançar a droga. \n",
        "\n",
        "Não é difícil verificar que as duas ações levarão ao mesmo risco, i.e.\n",
        "\n",
        "$R(\\delta=0)=R(\\delta=1)$ se somente se $\\pi=0.20$. \n",
        "\n",
        "Além disso, para $\\pi<0.20$ temos que $R(\\delta=0)<R(\\delta=1)$ e a regra de Bayes consiste em **não lançar a droga** enquanto que $\\pi>0.20$ implica em $R(\\delta=0)>R(\\delta=1)$ e a regra de Bayes deve ser de **lançar a droga**. "
      ]
    },
    {
      "cell_type": "markdown",
      "metadata": {
        "id": "pNO3CxOEkwFh"
      },
      "source": [
        "\n",
        "### Estimadores de Bayes\n",
        "\n",
        "Considere uma amostra aleatória $X_1,\\dots,X_n$, tomada de uma distribuição com função de (densidade) de probabilidade $p(x\\vert\\theta)$, onde o valor do parâmetro $\\theta$ é desconhecido. \n",
        "\n",
        "Em um problema de inferência como este o valor de $\\theta$ deve ser estimado a partir dos valores observados na amostra.\n",
        "\n",
        "Se $\\theta\\in\\Theta$ então é razoável que os possíveis valores de um estimador $\\delta(\\mathbf{x})$ também devam pertencer ao espaço $\\Theta$. \n",
        "\n",
        "Além disso, um bom estimador é aquele para o qual, com alta probabilidade, apresenta o seguinte erro $$\\delta(\\mathbf{x})-\\theta$$ próximo de zero.\n",
        "\n",
        "\n",
        "\n",
        "\n",
        "### Funções de perda\n",
        "\n",
        "\n",
        "\n",
        "Para cada possível valor de $\\theta$ e cada possível estimativa $a\\in\\Theta$ vamos associar **uma perda** $L(a,\\theta)$ de modo que quanto maior a distância entre $a$ e $\\theta$ maior o valor da perda. A perda esperada a posteriori é dada por\n",
        "\n",
        "$$E[L(a,\\theta)\\vert\\mathbf{x}] = \\int L(a,\\theta)p(\\theta\\vert\\mathbf{x}) d\\theta$$\n",
        "\n",
        "O **estimador de Bayes** será aquele que minimiza a perda esperada.\n",
        "\n",
        "\n",
        "#### Função de perda quadrática\n",
        "\n",
        "$$L(a,\\theta)=(a-\\theta)^2$$ \n",
        "\n",
        "O estimador de Bayes para $\\theta$ será a **média de sua distribuição atualizada** (EAP: expected a posteriori).\n",
        "\n",
        "\n",
        "\n",
        "#### Função de perda absoluta\n",
        "(introduz punições que crescem linearmente com o erro de estimação)\n",
        "\n",
        "$$L(a,\\theta)=\\vert a-\\theta\\vert$$\n",
        "\n",
        "O estimador de Bayes para $\\theta$ é a **mediana de sua distribuição atualizada**.\n",
        "\n",
        "\n",
        "\n",
        "#### Função de perda 0-1\n",
        "\n",
        "(associam uma perda fixa a um erro cometido, não importando sua magnitude)\n",
        "\n",
        "$$L(a,\\theta)=\\left\\{ \\begin{array}{ccc} 1 &\\mbox{se}& |a-\\theta|>\\epsilon \\\\ 0 &\\mbox{se}& |a-\\theta|<\\epsilon \\end{array}\\right.$$\n",
        "\n",
        "para todo $\\epsilon>0$. \n",
        "\n",
        "Neste caso, o estimador de Bayes é a **moda da distribuição atualizada de $\\theta$** (MAP: maximum a posteriori). \n",
        "\n",
        "A moda da posteriori de $\\theta$ também é chamado de estimador de máxima verossimilhança generalizado (EMVG) e é o mais fácil de ser obtido dentre os estimadores vistos até agora.\n"
      ]
    },
    {
      "cell_type": "markdown",
      "metadata": {
        "id": "hR0rOUJYkwFi"
      },
      "source": [
        "**Exemplo:**\n",
        "\n",
        "Suponha que queremos estimar a proporção $\\theta$ de itens defeituosos em um grande lote. Para isto será tomada uma amostra aleatória $X_1,\\dots,X_n$ de uma distribuição de Bernoulli com parâmetro $\\theta$. Usando uma priori conjugada beta($a,b$), após observar a amostra a distribuição a posteriori é beta($a+k,b+n-k$) onde $k=\\sum_{i=1}^n x_i$. \n",
        "\n",
        "A média desta distribuição beta é dada por $(a+k)/(a+b+n)$ e portanto o estimador de Bayes de $\\theta$ usando perda quadrática é\n",
        "\n",
        "$\\delta(\\mathbf{x})= \\displaystyle\\frac{a+\\sum_{i=1}^n X_i}{a+b+n}.$\n"
      ]
    },
    {
      "cell_type": "markdown",
      "metadata": {
        "id": "PZIFOYaikwFj"
      },
      "source": [
        "### Estimação por Intervalos\n",
        "\n",
        "Pode-se desenvolver a estimação por intervalos por meio do **intervalo de credibilidade (ou intervalo de confiança Bayesiano)** baseado no distribuição a posteriori.\n",
        "\n",
        "\n",
        "\n",
        "**Definição:**\n",
        "\n",
        "C é um **intervalo de credibilidade** de 100(1-$\\alpha$)$\\%$, ou nível de credibilidade (ou confiança) $1-\\alpha$, para $\\theta$ se $P(\\theta\\in C)\\ge 1-\\alpha$.\n",
        "\n",
        "\n",
        "\n",
        "Obs: Quanto menor for o tamanho do intervalo, mais concentrada é a distribuição do parâmetro, ou seja o tamanho do intervalo informa sobre a dispersão de $\\theta$. \n",
        "\n",
        "\n",
        "O **intervalo com o menor comprimento possível** é obtido tomando-se os valores de $\\theta$ com maior densidade a posteriori, e esta idéia é expressa matematicamente na definição abaixo.\n",
        "\n",
        "\n",
        "**Definição:**\n",
        "\n",
        "Um intervalo de credibilidade $C$ de 100(1-$\\alpha$)% para $\\theta$ é de **máxima densidade a posteriori (MDP)** se $C=\\{\\theta\\in\\Theta:p(\\theta\\vert\\mathbf{x})\\ge k(\\alpha)\\}$ onde $k(\\alpha)$ é a maior constante tal que $P(\\theta\\in C)\\ge 1-\\alpha$.\n",
        "\n",
        "Usando esta definição, todos os pontos dentro do intervalo MDP terão densidade maior do que qualquer ponto fora do intervalo. \n",
        "\n",
        "Um problema com os intervalos MDP é que eles não são invariantes a transformações 1 a 1, a não ser para transformações lineares. O mesmo problema ocorre com intervalos de comprimento mínimo na inferência clássica. "
      ]
    },
    {
      "cell_type": "markdown",
      "metadata": {
        "id": "Y4CV55ARkwFj"
      },
      "source": [
        "## Computação Bayesiana\n",
        "\n",
        "Leituras recomendadas:\n",
        "\n",
        "- Métodos de Monte Carlo: https://pt.wikipedia.org/wiki/M%C3%A9todo_de_Monte_Carlo\n",
        "\n",
        "- Notas Ricardo Ehlers e Paulo Justiniano: http://www.leg.ufpr.br/~paulojus/CE227/ce227/node1.html\n",
        "\n",
        "- Salvatier, John; Wiecki, Thomas V.; Fonnesbeck, Christopher. Probabilistic programming in Python using PyMC3. PeerJ Computer Science, v. 2, p. e55, 2016. Disponível em https://peerj.com/articles/cs-55/. Acessado em 06/04/2021.\n",
        "\n",
        "\n",
        "A obtenção de informações a partir da distribuição a posteriori dos parâmetros pode envolver a avaliação de probabilidades ou esperanças, que exigem métodos computacionais baseados em simulações, como \n",
        "\n",
        "- Método de Monte Carlo simples\n",
        "\n",
        "- Monte Carlo com função de importância, \n",
        "\n",
        "- Algoritmo de Metropolis-Hastings,\n",
        "\n",
        "- Amostrador de Gibbs,\n",
        "\n",
        "- Método do Bootstrap Bayesiano, \n",
        "\n",
        "- Monte Carlo via cadeias de Markov (MCMC), \n",
        "\n",
        "- Monte Carlo Hamiltoniano (HMC),\n",
        "\n",
        "- No-U-Turn Sampler (NUTS).\n",
        "\n",
        "\n",
        "HMC e NUTS aproveitam as informações de gradiente da probabilidade e alcançam uma convergência muito mais rápida do que os métodos de amostragem tradicionais, especialmente para modelos mais complexos. \n",
        "\n",
        "O pacote PyMC3 do Python usam a programação probabilística para executar os métodos de HMC como o NUTS. Esse tipo de programação permite a especificação flexível e ajuste de modelos estatísticos bayesianos com sintaxe intuitiva e legível, embora poderosa, que é próxima da sintaxe natural que os estatísticos usam para descrever modelos.\n",
        "\n",
        "\n",
        "\n",
        "\n"
      ]
    },
    {
      "cell_type": "markdown",
      "metadata": {
        "id": "jqAf5HDdkwFk"
      },
      "source": [
        "## Exemplos\n",
        "\n",
        "\n"
      ]
    },
    {
      "cell_type": "code",
      "execution_count": null,
      "metadata": {
        "id": "9iJhuKmzkwFk"
      },
      "outputs": [],
      "source": [
        "#!pip install pymc3==3.11.1\n"
      ]
    },
    {
      "cell_type": "code",
      "execution_count": null,
      "metadata": {
        "id": "qqRkY6qSkwFl"
      },
      "outputs": [],
      "source": [
        "#!pip install arviz==0.11.2"
      ]
    },
    {
      "cell_type": "code",
      "execution_count": 22,
      "metadata": {
        "id": "ECBRrmj0kwFl"
      },
      "outputs": [],
      "source": [
        "import warnings\n",
        "\n",
        "import arviz as az\n",
        "import matplotlib.pyplot as plt\n",
        "import numpy as np\n",
        "import pymc3 as pm\n",
        "import theano.tensor as tt\n"
      ]
    },
    {
      "cell_type": "code",
      "execution_count": null,
      "metadata": {
        "id": "SI4y97_zkwFm"
      },
      "outputs": [],
      "source": [
        "!pip show pymc3"
      ]
    },
    {
      "cell_type": "code",
      "execution_count": null,
      "metadata": {
        "id": "pTwZpB-YkwFm"
      },
      "outputs": [],
      "source": [
        "!pip show arviz"
      ]
    },
    {
      "cell_type": "markdown",
      "metadata": {
        "id": "rkeg8ht0kwFn"
      },
      "source": [
        "## Exemplo beta-Bernoulli: clientes do banco"
      ]
    },
    {
      "cell_type": "code",
      "execution_count": 24,
      "metadata": {
        "id": "Q2RwxOuYkwFn",
        "outputId": "ef5aca18-8bab-4a92-b10b-bf1e7dc7a7a0",
        "colab": {
          "base_uri": "https://localhost:8080/",
          "height": 198
        }
      },
      "outputs": [
        {
          "output_type": "stream",
          "name": "stderr",
          "text": [
            "Auto-assigning NUTS sampler...\n",
            "Initializing NUTS using jitter+adapt_diag...\n",
            "Sequential sampling (2 chains in 1 job)\n",
            "NUTS: [p]\n"
          ]
        },
        {
          "output_type": "display_data",
          "data": {
            "text/plain": [
              "<IPython.core.display.HTML object>"
            ],
            "text/html": [
              "\n",
              "<style>\n",
              "    /* Turns off some styling */\n",
              "    progress {\n",
              "        /* gets rid of default border in Firefox and Opera. */\n",
              "        border: none;\n",
              "        /* Needs to be in here for Safari polyfill so background images work as expected. */\n",
              "        background-size: auto;\n",
              "    }\n",
              "    .progress-bar-interrupted, .progress-bar-interrupted::-webkit-progress-bar {\n",
              "        background: #F44336;\n",
              "    }\n",
              "</style>\n"
            ]
          },
          "metadata": {}
        },
        {
          "output_type": "display_data",
          "data": {
            "text/plain": [
              "<IPython.core.display.HTML object>"
            ],
            "text/html": [
              "\n",
              "    <div>\n",
              "      <progress value='3500' class='' max='3500' style='width:300px; height:20px; vertical-align: middle;'></progress>\n",
              "      100.00% [3500/3500 00:03<00:00 Sampling chain 0, 0 divergences]\n",
              "    </div>\n",
              "    "
            ]
          },
          "metadata": {}
        },
        {
          "output_type": "display_data",
          "data": {
            "text/plain": [
              "<IPython.core.display.HTML object>"
            ],
            "text/html": [
              "\n",
              "<style>\n",
              "    /* Turns off some styling */\n",
              "    progress {\n",
              "        /* gets rid of default border in Firefox and Opera. */\n",
              "        border: none;\n",
              "        /* Needs to be in here for Safari polyfill so background images work as expected. */\n",
              "        background-size: auto;\n",
              "    }\n",
              "    .progress-bar-interrupted, .progress-bar-interrupted::-webkit-progress-bar {\n",
              "        background: #F44336;\n",
              "    }\n",
              "</style>\n"
            ]
          },
          "metadata": {}
        },
        {
          "output_type": "display_data",
          "data": {
            "text/plain": [
              "<IPython.core.display.HTML object>"
            ],
            "text/html": [
              "\n",
              "    <div>\n",
              "      <progress value='3500' class='' max='3500' style='width:300px; height:20px; vertical-align: middle;'></progress>\n",
              "      100.00% [3500/3500 00:03<00:00 Sampling chain 1, 0 divergences]\n",
              "    </div>\n",
              "    "
            ]
          },
          "metadata": {}
        },
        {
          "output_type": "stream",
          "name": "stderr",
          "text": [
            "Sampling 2 chains for 1_500 tune and 2_000 draw iterations (3_000 + 4_000 draws total) took 7 seconds.\n"
          ]
        }
      ],
      "source": [
        "with pm.Model() as model:\n",
        "    p = pm.Beta(\"p\", 2, 8)\n",
        "    obs = pm.distributions.discrete.Bernoulli(\"obs\", p, observed=dados['Inadimplente'])\n",
        "\n",
        "    idata = pm.sample(2000, tune=1500, return_inferencedata=True)\n"
      ]
    },
    {
      "cell_type": "code",
      "execution_count": 25,
      "metadata": {
        "id": "nJgSvJX8kwFo",
        "outputId": "400ce6f5-f924-4031-98fb-0f04664b0fc0",
        "colab": {
          "base_uri": "https://localhost:8080/",
          "height": 80
        }
      },
      "outputs": [
        {
          "output_type": "execute_result",
          "data": {
            "text/plain": [
              "    mean     sd  hdi_3%  hdi_97%  mcse_mean  mcse_sd  ess_bulk  ess_tail  \\\n",
              "p  0.241  0.019   0.206    0.277        0.0      0.0    1726.0    2659.0   \n",
              "\n",
              "   r_hat  \n",
              "p    1.0  "
            ],
            "text/html": [
              "\n",
              "  <div id=\"df-ec5703cc-fe38-44f9-8813-ef98a2bf1f4e\">\n",
              "    <div class=\"colab-df-container\">\n",
              "      <div>\n",
              "<style scoped>\n",
              "    .dataframe tbody tr th:only-of-type {\n",
              "        vertical-align: middle;\n",
              "    }\n",
              "\n",
              "    .dataframe tbody tr th {\n",
              "        vertical-align: top;\n",
              "    }\n",
              "\n",
              "    .dataframe thead th {\n",
              "        text-align: right;\n",
              "    }\n",
              "</style>\n",
              "<table border=\"1\" class=\"dataframe\">\n",
              "  <thead>\n",
              "    <tr style=\"text-align: right;\">\n",
              "      <th></th>\n",
              "      <th>mean</th>\n",
              "      <th>sd</th>\n",
              "      <th>hdi_3%</th>\n",
              "      <th>hdi_97%</th>\n",
              "      <th>mcse_mean</th>\n",
              "      <th>mcse_sd</th>\n",
              "      <th>ess_bulk</th>\n",
              "      <th>ess_tail</th>\n",
              "      <th>r_hat</th>\n",
              "    </tr>\n",
              "  </thead>\n",
              "  <tbody>\n",
              "    <tr>\n",
              "      <th>p</th>\n",
              "      <td>0.241</td>\n",
              "      <td>0.019</td>\n",
              "      <td>0.206</td>\n",
              "      <td>0.277</td>\n",
              "      <td>0.0</td>\n",
              "      <td>0.0</td>\n",
              "      <td>1726.0</td>\n",
              "      <td>2659.0</td>\n",
              "      <td>1.0</td>\n",
              "    </tr>\n",
              "  </tbody>\n",
              "</table>\n",
              "</div>\n",
              "      <button class=\"colab-df-convert\" onclick=\"convertToInteractive('df-ec5703cc-fe38-44f9-8813-ef98a2bf1f4e')\"\n",
              "              title=\"Convert this dataframe to an interactive table.\"\n",
              "              style=\"display:none;\">\n",
              "        \n",
              "  <svg xmlns=\"http://www.w3.org/2000/svg\" height=\"24px\"viewBox=\"0 0 24 24\"\n",
              "       width=\"24px\">\n",
              "    <path d=\"M0 0h24v24H0V0z\" fill=\"none\"/>\n",
              "    <path d=\"M18.56 5.44l.94 2.06.94-2.06 2.06-.94-2.06-.94-.94-2.06-.94 2.06-2.06.94zm-11 1L8.5 8.5l.94-2.06 2.06-.94-2.06-.94L8.5 2.5l-.94 2.06-2.06.94zm10 10l.94 2.06.94-2.06 2.06-.94-2.06-.94-.94-2.06-.94 2.06-2.06.94z\"/><path d=\"M17.41 7.96l-1.37-1.37c-.4-.4-.92-.59-1.43-.59-.52 0-1.04.2-1.43.59L10.3 9.45l-7.72 7.72c-.78.78-.78 2.05 0 2.83L4 21.41c.39.39.9.59 1.41.59.51 0 1.02-.2 1.41-.59l7.78-7.78 2.81-2.81c.8-.78.8-2.07 0-2.86zM5.41 20L4 18.59l7.72-7.72 1.47 1.35L5.41 20z\"/>\n",
              "  </svg>\n",
              "      </button>\n",
              "      \n",
              "  <style>\n",
              "    .colab-df-container {\n",
              "      display:flex;\n",
              "      flex-wrap:wrap;\n",
              "      gap: 12px;\n",
              "    }\n",
              "\n",
              "    .colab-df-convert {\n",
              "      background-color: #E8F0FE;\n",
              "      border: none;\n",
              "      border-radius: 50%;\n",
              "      cursor: pointer;\n",
              "      display: none;\n",
              "      fill: #1967D2;\n",
              "      height: 32px;\n",
              "      padding: 0 0 0 0;\n",
              "      width: 32px;\n",
              "    }\n",
              "\n",
              "    .colab-df-convert:hover {\n",
              "      background-color: #E2EBFA;\n",
              "      box-shadow: 0px 1px 2px rgba(60, 64, 67, 0.3), 0px 1px 3px 1px rgba(60, 64, 67, 0.15);\n",
              "      fill: #174EA6;\n",
              "    }\n",
              "\n",
              "    [theme=dark] .colab-df-convert {\n",
              "      background-color: #3B4455;\n",
              "      fill: #D2E3FC;\n",
              "    }\n",
              "\n",
              "    [theme=dark] .colab-df-convert:hover {\n",
              "      background-color: #434B5C;\n",
              "      box-shadow: 0px 1px 3px 1px rgba(0, 0, 0, 0.15);\n",
              "      filter: drop-shadow(0px 1px 2px rgba(0, 0, 0, 0.3));\n",
              "      fill: #FFFFFF;\n",
              "    }\n",
              "  </style>\n",
              "\n",
              "      <script>\n",
              "        const buttonEl =\n",
              "          document.querySelector('#df-ec5703cc-fe38-44f9-8813-ef98a2bf1f4e button.colab-df-convert');\n",
              "        buttonEl.style.display =\n",
              "          google.colab.kernel.accessAllowed ? 'block' : 'none';\n",
              "\n",
              "        async function convertToInteractive(key) {\n",
              "          const element = document.querySelector('#df-ec5703cc-fe38-44f9-8813-ef98a2bf1f4e');\n",
              "          const dataTable =\n",
              "            await google.colab.kernel.invokeFunction('convertToInteractive',\n",
              "                                                     [key], {});\n",
              "          if (!dataTable) return;\n",
              "\n",
              "          const docLinkHtml = 'Like what you see? Visit the ' +\n",
              "            '<a target=\"_blank\" href=https://colab.research.google.com/notebooks/data_table.ipynb>data table notebook</a>'\n",
              "            + ' to learn more about interactive tables.';\n",
              "          element.innerHTML = '';\n",
              "          dataTable['output_type'] = 'display_data';\n",
              "          await google.colab.output.renderOutput(dataTable, element);\n",
              "          const docLink = document.createElement('div');\n",
              "          docLink.innerHTML = docLinkHtml;\n",
              "          element.appendChild(docLink);\n",
              "        }\n",
              "      </script>\n",
              "    </div>\n",
              "  </div>\n",
              "  "
            ]
          },
          "metadata": {},
          "execution_count": 25
        }
      ],
      "source": [
        "az.summary(idata)"
      ]
    },
    {
      "cell_type": "code",
      "execution_count": 26,
      "metadata": {
        "id": "1Kkj3gWBkwFp",
        "outputId": "05e9ed26-632a-4c7d-e01d-25d552028ccd",
        "colab": {
          "base_uri": "https://localhost:8080/",
          "height": 287
        }
      },
      "outputs": [
        {
          "output_type": "display_data",
          "data": {
            "text/plain": [
              "<Figure size 432x288 with 1 Axes>"
            ],
            "image/png": "[encoded data removed]"
          },
          "metadata": {
            "needs_background": "light"
          }
        }
      ],
      "source": [
        "az.plot_posterior(idata);\n"
      ]
    },
    {
      "cell_type": "code",
      "execution_count": 27,
      "metadata": {
        "id": "qzMM2DDMkwFp",
        "outputId": "271ad45d-f8dc-4e61-b6a7-6545d760ce97",
        "colab": {
          "base_uri": "https://localhost:8080/",
          "height": 298
        }
      },
      "outputs": [
        {
          "output_type": "display_data",
          "data": {
            "text/plain": [
              "<Figure size 576x302.4 with 2 Axes>"
            ],
            "image/png": "[encoded data removed]"
          },
          "metadata": {
            "needs_background": "light"
          }
        }
      ],
      "source": [
        "az.plot_forest(idata, r_hat=True);"
      ]
    },
    {
      "cell_type": "markdown",
      "metadata": {
        "id": "q-9GLzXrkwFq"
      },
      "source": [
        "## Exemplo: normal com dados simulados\n",
        "\n",
        "Fonte: https://docs.pymc.io/pymc-examples/examples/pymc3_howto/api_quickstart.html"
      ]
    },
    {
      "cell_type": "code",
      "execution_count": 28,
      "metadata": {
        "id": "V8XSZFGMkwFq"
      },
      "outputs": [],
      "source": [
        "with pm.Model() as model:\n",
        "    mu = pm.Normal(\"mu\", mu=0, sigma=1)\n",
        "    obs = pm.Normal(\"obs\", mu=mu, sigma=1, observed=np.random.randn(100))"
      ]
    },
    {
      "cell_type": "code",
      "execution_count": 29,
      "metadata": {
        "id": "T5kCv7eTkwFr",
        "outputId": "88c5801f-b3b0-479a-9129-d987535cf162",
        "colab": {
          "base_uri": "https://localhost:8080/"
        }
      },
      "outputs": [
        {
          "output_type": "execute_result",
          "data": {
            "text/plain": [
              "[mu ~ Normal, obs ~ Normal]"
            ]
          },
          "metadata": {},
          "execution_count": 29
        }
      ],
      "source": [
        "model.basic_RVs"
      ]
    },
    {
      "cell_type": "code",
      "execution_count": 30,
      "metadata": {
        "id": "-MFaJqKykwFr",
        "outputId": "c1c01c26-9c73-4bf4-daf8-1928efe33e29",
        "colab": {
          "base_uri": "https://localhost:8080/"
        }
      },
      "outputs": [
        {
          "output_type": "execute_result",
          "data": {
            "text/plain": [
              "[mu ~ Normal]"
            ]
          },
          "metadata": {},
          "execution_count": 30
        }
      ],
      "source": [
        "model.free_RVs\n"
      ]
    },
    {
      "cell_type": "code",
      "execution_count": 31,
      "metadata": {
        "id": "5gkuBJAnkwFs",
        "outputId": "9d68a65e-1207-4c61-d501-d6f85d34c98d",
        "colab": {
          "base_uri": "https://localhost:8080/"
        }
      },
      "outputs": [
        {
          "output_type": "execute_result",
          "data": {
            "text/plain": [
              "[obs ~ Normal]"
            ]
          },
          "metadata": {},
          "execution_count": 31
        }
      ],
      "source": [
        "model.observed_RVs"
      ]
    },
    {
      "cell_type": "code",
      "execution_count": 32,
      "metadata": {
        "id": "PQHOR4oAkwFs",
        "outputId": "ee1e5852-528c-44ce-9616-ff82e9f0513b",
        "colab": {
          "base_uri": "https://localhost:8080/"
        }
      },
      "outputs": [
        {
          "output_type": "execute_result",
          "data": {
            "text/plain": [
              "array(-151.48535177)"
            ]
          },
          "metadata": {},
          "execution_count": 32
        }
      ],
      "source": [
        "model.logp({\"mu\": 0})\n"
      ]
    },
    {
      "cell_type": "code",
      "execution_count": 33,
      "metadata": {
        "id": "NWOebzswkwFt",
        "outputId": "301a1975-b511-48be-f4d2-9ecdecbc1321",
        "colab": {
          "base_uri": "https://localhost:8080/"
        }
      },
      "outputs": [
        {
          "output_type": "stream",
          "name": "stdout",
          "text": [
            "10 loops, best of 5: 98.5 ms per loop\n",
            "The slowest run took 4.41 times longer than the fastest. This could mean that an intermediate result is being cached.\n",
            "10000 loops, best of 5: 30.3 µs per loop\n"
          ]
        }
      ],
      "source": [
        "%timeit model.logp({mu: 0.1})\n",
        "logp = model.logp\n",
        "%timeit logp({mu: 0.1})"
      ]
    },
    {
      "cell_type": "markdown",
      "metadata": {
        "id": "C0q06HVHkwFt"
      },
      "source": [
        "### Variáveis aleatórias não observáveis"
      ]
    },
    {
      "cell_type": "code",
      "execution_count": 34,
      "metadata": {
        "id": "Y_IH0NbVkwFu"
      },
      "outputs": [],
      "source": [
        "with pm.Model():\n",
        "    x = pm.Normal(\"x\", mu=0, sigma=1)\n",
        "\n"
      ]
    },
    {
      "cell_type": "markdown",
      "metadata": {
        "id": "QHsWTkFOkwFu"
      },
      "source": [
        "### Variáveis aleatórias observáveis"
      ]
    },
    {
      "cell_type": "code",
      "execution_count": 35,
      "metadata": {
        "id": "O4DDHDaSkwFv"
      },
      "outputs": [],
      "source": [
        "with pm.Model():\n",
        "    obs = pm.Normal(\"x\", mu=0, sigma=1, observed=np.random.randn(100))"
      ]
    },
    {
      "cell_type": "code",
      "execution_count": null,
      "metadata": {
        "id": "W54DCJZekwFv"
      },
      "outputs": [],
      "source": [
        "obs.observations"
      ]
    },
    {
      "cell_type": "code",
      "execution_count": 36,
      "metadata": {
        "id": "E5ET8D-IkwFw",
        "outputId": "5b7900e6-35ab-4461-d94a-3e625839882d",
        "colab": {
          "base_uri": "https://localhost:8080/",
          "height": 347
        }
      },
      "outputs": [
        {
          "output_type": "stream",
          "name": "stderr",
          "text": [
            "/usr/local/lib/python3.7/dist-packages/seaborn/distributions.py:2619: FutureWarning: `distplot` is a deprecated function and will be removed in a future version. Please adapt your code to use either `displot` (a figure-level function with similar flexibility) or `kdeplot` (an axes-level function for kernel density plots).\n",
            "  warnings.warn(msg, FutureWarning)\n"
          ]
        },
        {
          "output_type": "execute_result",
          "data": {
            "text/plain": [
              "<matplotlib.axes._subplots.AxesSubplot at 0x7f732acac890>"
            ]
          },
          "metadata": {},
          "execution_count": 36
        },
        {
          "output_type": "display_data",
          "data": {
            "text/plain": [
              "<Figure size 432x288 with 1 Axes>"
            ],
            "image/png": "[encoded data removed]"
          },
          "metadata": {
            "needs_background": "light"
          }
        }
      ],
      "source": [
        "import seaborn as sns\n",
        "sns.distplot(obs.observations, hist=False)"
      ]
    },
    {
      "cell_type": "markdown",
      "metadata": {
        "id": "zvfRjMXQkwFw"
      },
      "source": [
        "## Inferência"
      ]
    },
    {
      "cell_type": "markdown",
      "metadata": {
        "id": "vxX0OUAfkwFw"
      },
      "source": [
        "### Amostragem"
      ]
    },
    {
      "cell_type": "code",
      "execution_count": 37,
      "metadata": {
        "id": "AcXJhpUgkwFx",
        "outputId": "1e37a198-8112-45c5-db07-8dc84dbe2e46",
        "colab": {
          "base_uri": "https://localhost:8080/",
          "height": 198
        }
      },
      "outputs": [
        {
          "output_type": "stream",
          "name": "stderr",
          "text": [
            "Auto-assigning NUTS sampler...\n",
            "Initializing NUTS using jitter+adapt_diag...\n",
            "Sequential sampling (2 chains in 1 job)\n",
            "NUTS: [mu]\n"
          ]
        },
        {
          "output_type": "display_data",
          "data": {
            "text/plain": [
              "<IPython.core.display.HTML object>"
            ],
            "text/html": [
              "\n",
              "<style>\n",
              "    /* Turns off some styling */\n",
              "    progress {\n",
              "        /* gets rid of default border in Firefox and Opera. */\n",
              "        border: none;\n",
              "        /* Needs to be in here for Safari polyfill so background images work as expected. */\n",
              "        background-size: auto;\n",
              "    }\n",
              "    .progress-bar-interrupted, .progress-bar-interrupted::-webkit-progress-bar {\n",
              "        background: #F44336;\n",
              "    }\n",
              "</style>\n"
            ]
          },
          "metadata": {}
        },
        {
          "output_type": "display_data",
          "data": {
            "text/plain": [
              "<IPython.core.display.HTML object>"
            ],
            "text/html": [
              "\n",
              "    <div>\n",
              "      <progress value='3500' class='' max='3500' style='width:300px; height:20px; vertical-align: middle;'></progress>\n",
              "      100.00% [3500/3500 00:02<00:00 Sampling chain 0, 0 divergences]\n",
              "    </div>\n",
              "    "
            ]
          },
          "metadata": {}
        },
        {
          "output_type": "display_data",
          "data": {
            "text/plain": [
              "<IPython.core.display.HTML object>"
            ],
            "text/html": [
              "\n",
              "<style>\n",
              "    /* Turns off some styling */\n",
              "    progress {\n",
              "        /* gets rid of default border in Firefox and Opera. */\n",
              "        border: none;\n",
              "        /* Needs to be in here for Safari polyfill so background images work as expected. */\n",
              "        background-size: auto;\n",
              "    }\n",
              "    .progress-bar-interrupted, .progress-bar-interrupted::-webkit-progress-bar {\n",
              "        background: #F44336;\n",
              "    }\n",
              "</style>\n"
            ]
          },
          "metadata": {}
        },
        {
          "output_type": "display_data",
          "data": {
            "text/plain": [
              "<IPython.core.display.HTML object>"
            ],
            "text/html": [
              "\n",
              "    <div>\n",
              "      <progress value='3500' class='' max='3500' style='width:300px; height:20px; vertical-align: middle;'></progress>\n",
              "      100.00% [3500/3500 00:02<00:00 Sampling chain 1, 0 divergences]\n",
              "    </div>\n",
              "    "
            ]
          },
          "metadata": {}
        },
        {
          "output_type": "stream",
          "name": "stderr",
          "text": [
            "Sampling 2 chains for 1_500 tune and 2_000 draw iterations (3_000 + 4_000 draws total) took 5 seconds.\n"
          ]
        }
      ],
      "source": [
        "with pm.Model() as model:\n",
        "    mu = pm.Normal(\"mu\", mu=0, sigma=1)\n",
        "    obs = pm.Normal(\"obs\", mu=mu, sigma=1, observed=np.random.randn(100))\n",
        "\n",
        "    idata = pm.sample(2000, tune=1500, return_inferencedata=True)\n"
      ]
    },
    {
      "cell_type": "code",
      "execution_count": 38,
      "metadata": {
        "id": "dqZYGF6FkwFx",
        "outputId": "8b462b91-a875-4d2f-f7e4-70f02ddf8f71",
        "colab": {
          "base_uri": "https://localhost:8080/"
        }
      },
      "outputs": [
        {
          "output_type": "execute_result",
          "data": {
            "text/plain": [
              "Frozen(SortedKeysDict({'chain': 2, 'draw': 2000}))"
            ]
          },
          "metadata": {},
          "execution_count": 38
        }
      ],
      "source": [
        "idata.posterior.dims"
      ]
    },
    {
      "cell_type": "markdown",
      "metadata": {
        "id": "Knn28rZskwFy"
      },
      "source": [
        "### Amostragem com 6 cadeias em paralelo"
      ]
    },
    {
      "cell_type": "code",
      "execution_count": 39,
      "metadata": {
        "id": "6Llsm0HAkwFy",
        "outputId": "3b98507f-419d-4a31-cdf7-be5c796dc778",
        "colab": {
          "base_uri": "https://localhost:8080/",
          "height": 161
        }
      },
      "outputs": [
        {
          "output_type": "stream",
          "name": "stderr",
          "text": [
            "Auto-assigning NUTS sampler...\n",
            "Initializing NUTS using jitter+adapt_diag...\n",
            "Multiprocess sampling (6 chains in 4 jobs)\n",
            "NUTS: [mu]\n"
          ]
        },
        {
          "output_type": "display_data",
          "data": {
            "text/plain": [
              "<IPython.core.display.HTML object>"
            ],
            "text/html": [
              "\n",
              "<style>\n",
              "    /* Turns off some styling */\n",
              "    progress {\n",
              "        /* gets rid of default border in Firefox and Opera. */\n",
              "        border: none;\n",
              "        /* Needs to be in here for Safari polyfill so background images work as expected. */\n",
              "        background-size: auto;\n",
              "    }\n",
              "    .progress-bar-interrupted, .progress-bar-interrupted::-webkit-progress-bar {\n",
              "        background: #F44336;\n",
              "    }\n",
              "</style>\n"
            ]
          },
          "metadata": {}
        },
        {
          "output_type": "display_data",
          "data": {
            "text/plain": [
              "<IPython.core.display.HTML object>"
            ],
            "text/html": [
              "\n",
              "    <div>\n",
              "      <progress value='12000' class='' max='12000' style='width:300px; height:20px; vertical-align: middle;'></progress>\n",
              "      100.00% [12000/12000 00:10<00:00 Sampling 6 chains, 0 divergences]\n",
              "    </div>\n",
              "    "
            ]
          },
          "metadata": {}
        },
        {
          "output_type": "stream",
          "name": "stderr",
          "text": [
            "Sampling 6 chains for 1_000 tune and 1_000 draw iterations (6_000 + 6_000 draws total) took 11 seconds.\n"
          ]
        }
      ],
      "source": [
        "with pm.Model() as model:\n",
        "    mu = pm.Normal(\"mu\", mu=0, sigma=1)\n",
        "    obs = pm.Normal(\"obs\", mu=mu, sigma=1, observed=np.random.randn(100))\n",
        "\n",
        "    idata = pm.sample(cores=4, chains=6, return_inferencedata=True)\n",
        "\n"
      ]
    },
    {
      "cell_type": "code",
      "execution_count": null,
      "metadata": {
        "id": "Gt2TULQCkwFy"
      },
      "outputs": [],
      "source": [
        "idata.posterior[\"mu\"].shape\n"
      ]
    },
    {
      "cell_type": "markdown",
      "metadata": {
        "id": "rD8wf8CukwFz"
      },
      "source": [
        "### Podemos incluir passos com outros métodos "
      ]
    },
    {
      "cell_type": "code",
      "execution_count": null,
      "metadata": {
        "id": "wFJmIbkZkwFz"
      },
      "outputs": [],
      "source": [
        "with pm.Model() as model:\n",
        "    mu = pm.Normal(\"mu\", mu=0, sigma=1)\n",
        "    obs = pm.Normal(\"obs\", mu=mu, sigma=1, observed=np.random.randn(100))\n",
        "\n",
        "    step = pm.Metropolis()\n",
        "    trace = pm.sample(1000, step=step)\n"
      ]
    },
    {
      "cell_type": "code",
      "execution_count": null,
      "metadata": {
        "id": "Jun2pgETkwF0"
      },
      "outputs": [],
      "source": [
        "with pm.Model() as model:\n",
        "    mu = pm.Normal(\"mu\", mu=0, sigma=1)\n",
        "    sd = pm.HalfNormal(\"sd\", sigma=1)\n",
        "    obs = pm.Normal(\"obs\", mu=mu, sigma=sd, observed=np.random.randn(100))\n",
        "\n",
        "    step1 = pm.Metropolis(vars=[mu])\n",
        "    step2 = pm.Slice(vars=[sd])\n",
        "    idata = pm.sample(10000, step=[step1, step2], cores=4, return_inferencedata=True)\n"
      ]
    },
    {
      "cell_type": "markdown",
      "metadata": {
        "id": "WSdS-h2JkwF0"
      },
      "source": [
        "### Análise de resultados"
      ]
    },
    {
      "cell_type": "code",
      "execution_count": 40,
      "metadata": {
        "id": "Bi1VGSOHkwF1",
        "outputId": "3cb53135-0a9c-4f94-e25b-ed21a59d35f0",
        "colab": {
          "base_uri": "https://localhost:8080/",
          "height": 169
        }
      },
      "outputs": [
        {
          "output_type": "display_data",
          "data": {
            "text/plain": [
              "<Figure size 864x144 with 2 Axes>"
            ],
            "image/png": "[encoded data removed]"
          },
          "metadata": {
            "needs_background": "light"
          }
        }
      ],
      "source": [
        "az.plot_trace(idata);\n"
      ]
    },
    {
      "cell_type": "markdown",
      "metadata": {
        "id": "k_k21Z_ZkwF1"
      },
      "source": [
        "### Estatística de Gelman-Rubin (R chapéu)"
      ]
    },
    {
      "cell_type": "code",
      "execution_count": 41,
      "metadata": {
        "id": "kmZ48TEHkwF1",
        "outputId": "863fd4e6-a7ab-4d8f-b43b-35a6fc846da1",
        "colab": {
          "base_uri": "https://localhost:8080/",
          "height": 80
        }
      },
      "outputs": [
        {
          "output_type": "execute_result",
          "data": {
            "text/plain": [
              "    mean     sd  hdi_3%  hdi_97%  mcse_mean  mcse_sd  ess_bulk  ess_tail  \\\n",
              "mu  0.17  0.098  -0.012    0.353      0.002    0.001    2628.0    4116.0   \n",
              "\n",
              "    r_hat  \n",
              "mu    1.0  "
            ],
            "text/html": [
              "\n",
              "  <div id=\"df-daa8231b-7a2d-4927-b5b5-aeabf5552e7e\">\n",
              "    <div class=\"colab-df-container\">\n",
              "      <div>\n",
              "<style scoped>\n",
              "    .dataframe tbody tr th:only-of-type {\n",
              "        vertical-align: middle;\n",
              "    }\n",
              "\n",
              "    .dataframe tbody tr th {\n",
              "        vertical-align: top;\n",
              "    }\n",
              "\n",
              "    .dataframe thead th {\n",
              "        text-align: right;\n",
              "    }\n",
              "</style>\n",
              "<table border=\"1\" class=\"dataframe\">\n",
              "  <thead>\n",
              "    <tr style=\"text-align: right;\">\n",
              "      <th></th>\n",
              "      <th>mean</th>\n",
              "      <th>sd</th>\n",
              "      <th>hdi_3%</th>\n",
              "      <th>hdi_97%</th>\n",
              "      <th>mcse_mean</th>\n",
              "      <th>mcse_sd</th>\n",
              "      <th>ess_bulk</th>\n",
              "      <th>ess_tail</th>\n",
              "      <th>r_hat</th>\n",
              "    </tr>\n",
              "  </thead>\n",
              "  <tbody>\n",
              "    <tr>\n",
              "      <th>mu</th>\n",
              "      <td>0.17</td>\n",
              "      <td>0.098</td>\n",
              "      <td>-0.012</td>\n",
              "      <td>0.353</td>\n",
              "      <td>0.002</td>\n",
              "      <td>0.001</td>\n",
              "      <td>2628.0</td>\n",
              "      <td>4116.0</td>\n",
              "      <td>1.0</td>\n",
              "    </tr>\n",
              "  </tbody>\n",
              "</table>\n",
              "</div>\n",
              "      <button class=\"colab-df-convert\" onclick=\"convertToInteractive('df-daa8231b-7a2d-4927-b5b5-aeabf5552e7e')\"\n",
              "              title=\"Convert this dataframe to an interactive table.\"\n",
              "              style=\"display:none;\">\n",
              "        \n",
              "  <svg xmlns=\"http://www.w3.org/2000/svg\" height=\"24px\"viewBox=\"0 0 24 24\"\n",
              "       width=\"24px\">\n",
              "    <path d=\"M0 0h24v24H0V0z\" fill=\"none\"/>\n",
              "    <path d=\"M18.56 5.44l.94 2.06.94-2.06 2.06-.94-2.06-.94-.94-2.06-.94 2.06-2.06.94zm-11 1L8.5 8.5l.94-2.06 2.06-.94-2.06-.94L8.5 2.5l-.94 2.06-2.06.94zm10 10l.94 2.06.94-2.06 2.06-.94-2.06-.94-.94-2.06-.94 2.06-2.06.94z\"/><path d=\"M17.41 7.96l-1.37-1.37c-.4-.4-.92-.59-1.43-.59-.52 0-1.04.2-1.43.59L10.3 9.45l-7.72 7.72c-.78.78-.78 2.05 0 2.83L4 21.41c.39.39.9.59 1.41.59.51 0 1.02-.2 1.41-.59l7.78-7.78 2.81-2.81c.8-.78.8-2.07 0-2.86zM5.41 20L4 18.59l7.72-7.72 1.47 1.35L5.41 20z\"/>\n",
              "  </svg>\n",
              "      </button>\n",
              "      \n",
              "  <style>\n",
              "    .colab-df-container {\n",
              "      display:flex;\n",
              "      flex-wrap:wrap;\n",
              "      gap: 12px;\n",
              "    }\n",
              "\n",
              "    .colab-df-convert {\n",
              "      background-color: #E8F0FE;\n",
              "      border: none;\n",
              "      border-radius: 50%;\n",
              "      cursor: pointer;\n",
              "      display: none;\n",
              "      fill: #1967D2;\n",
              "      height: 32px;\n",
              "      padding: 0 0 0 0;\n",
              "      width: 32px;\n",
              "    }\n",
              "\n",
              "    .colab-df-convert:hover {\n",
              "      background-color: #E2EBFA;\n",
              "      box-shadow: 0px 1px 2px rgba(60, 64, 67, 0.3), 0px 1px 3px 1px rgba(60, 64, 67, 0.15);\n",
              "      fill: #174EA6;\n",
              "    }\n",
              "\n",
              "    [theme=dark] .colab-df-convert {\n",
              "      background-color: #3B4455;\n",
              "      fill: #D2E3FC;\n",
              "    }\n",
              "\n",
              "    [theme=dark] .colab-df-convert:hover {\n",
              "      background-color: #434B5C;\n",
              "      box-shadow: 0px 1px 3px 1px rgba(0, 0, 0, 0.15);\n",
              "      filter: drop-shadow(0px 1px 2px rgba(0, 0, 0, 0.3));\n",
              "      fill: #FFFFFF;\n",
              "    }\n",
              "  </style>\n",
              "\n",
              "      <script>\n",
              "        const buttonEl =\n",
              "          document.querySelector('#df-daa8231b-7a2d-4927-b5b5-aeabf5552e7e button.colab-df-convert');\n",
              "        buttonEl.style.display =\n",
              "          google.colab.kernel.accessAllowed ? 'block' : 'none';\n",
              "\n",
              "        async function convertToInteractive(key) {\n",
              "          const element = document.querySelector('#df-daa8231b-7a2d-4927-b5b5-aeabf5552e7e');\n",
              "          const dataTable =\n",
              "            await google.colab.kernel.invokeFunction('convertToInteractive',\n",
              "                                                     [key], {});\n",
              "          if (!dataTable) return;\n",
              "\n",
              "          const docLinkHtml = 'Like what you see? Visit the ' +\n",
              "            '<a target=\"_blank\" href=https://colab.research.google.com/notebooks/data_table.ipynb>data table notebook</a>'\n",
              "            + ' to learn more about interactive tables.';\n",
              "          element.innerHTML = '';\n",
              "          dataTable['output_type'] = 'display_data';\n",
              "          await google.colab.output.renderOutput(dataTable, element);\n",
              "          const docLink = document.createElement('div');\n",
              "          docLink.innerHTML = docLinkHtml;\n",
              "          element.appendChild(docLink);\n",
              "        }\n",
              "      </script>\n",
              "    </div>\n",
              "  </div>\n",
              "  "
            ]
          },
          "metadata": {},
          "execution_count": 41
        }
      ],
      "source": [
        "az.summary(idata)"
      ]
    },
    {
      "cell_type": "code",
      "execution_count": 42,
      "metadata": {
        "id": "Jk_S6du3kwF2",
        "outputId": "b05968a9-47bc-458e-bee5-c8c58c791570",
        "colab": {
          "base_uri": "https://localhost:8080/",
          "height": 590
        }
      },
      "outputs": [
        {
          "output_type": "display_data",
          "data": {
            "text/plain": [
              "<Figure size 576x331.2 with 2 Axes>"
            ],
            "image/png": "[encoded data removed]"
          },
          "metadata": {
            "needs_background": "light"
          }
        },
        {
          "output_type": "display_data",
          "data": {
            "text/plain": [
              "<Figure size 432x288 with 1 Axes>"
            ],
            "image/png": "[encoded data removed]"
          },
          "metadata": {
            "needs_background": "light"
          }
        }
      ],
      "source": [
        "az.plot_forest(idata, r_hat=True);\n",
        "\n",
        "az.plot_posterior(idata);\n"
      ]
    },
    {
      "cell_type": "code",
      "execution_count": 43,
      "metadata": {
        "id": "Lx2gUcxLkwF2",
        "outputId": "503e7321-bce2-4eb3-fdf9-021524897024",
        "colab": {
          "base_uri": "https://localhost:8080/",
          "height": 287
        }
      },
      "outputs": [
        {
          "output_type": "display_data",
          "data": {
            "text/plain": [
              "<Figure size 432x288 with 1 Axes>"
            ],
            "image/png": "[encoded data removed]"
          },
          "metadata": {
            "needs_background": "light"
          }
        }
      ],
      "source": [
        "az.plot_posterior(idata);\n",
        "\n"
      ]
    },
    {
      "cell_type": "code",
      "execution_count": null,
      "metadata": {
        "id": "nJ-a0RmSIfYl"
      },
      "outputs": [],
      "source": [
        ""
      ]
    }
  ],
  "metadata": {
    "colab": {
      "name": "SME0221_Inferência Bayesiana.ipynb",
      "provenance": [],
      "collapsed_sections": [
        "pNO3CxOEkwFh",
        "PZIFOYaikwFj"
      ]
    },
    "kernelspec": {
      "display_name": "Python 3",
      "language": "python",
      "name": "python3"
    },
    "language_info": {
      "codemirror_mode": {
        "name": "ipython",
        "version": 3
      },
      "file_extension": ".py",
      "mimetype": "text/x-python",
      "name": "python",
      "nbconvert_exporter": "python",
      "pygments_lexer": "ipython3",
      "version": "3.7.3"
    }
  },
  "nbformat": 4,
  "nbformat_minor": 0
}