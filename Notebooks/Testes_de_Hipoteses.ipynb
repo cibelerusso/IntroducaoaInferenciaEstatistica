{
 "cells": [
  {
   "cell_type": "markdown",
   "metadata": {
    "id": "THLu9ZgJDzBY"
   },
   "source": [
    "# Testes de hipóteses\n",
    "\n",
    "### SME0221 Inferência Estatística\n",
    "\n",
    "por **Cibele Russo**\n",
    "\n",
    "**ICMC/USP - São Carlos SP**\n",
    "\n",
    "\n",
    "\n"
   ]
  },
  {
   "cell_type": "markdown",
   "metadata": {
    "id": "7ycFj6dRMIpM"
   },
   "source": [
    "### Qual teste escolher?"
   ]
  },
  {
   "cell_type": "markdown",
   "metadata": {
    "id": "WYkbizmQMIpM"
   },
   "source": [
    "\n",
    "![1_LYkUpSAgFPuxlLFjGAUMbA.png](data:image/png;base64,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)\n",
    "\n",
    "Fonte: https://towardsdatascience.com/hypothesis-testing-with-python-step-by-step-hands-on-tutorial-with-practical-examples-e805975ea96e"
   ]
  },
  {
   "cell_type": "markdown",
   "metadata": {
    "id": "OCB-oyOAcBAN"
   },
   "source": [
    "## Teste a média de uma população com a variância conhecida"
   ]
  },
  {
   "cell_type": "markdown",
   "metadata": {
    "id": "umBh--gaMIpO"
   },
   "source": [
    "$X_i \\sim N(\\mu, \\sigma^2)$ com $\\sigma^2$ conhecido\n",
    "\n",
    "$X_1, \\ldots, X_n$ amostra aleatória \n",
    "\n",
    "Considere avaliar\n",
    "\n",
    "$H_0: \\mu = \\mu_0$ contra\n",
    "\n",
    "$H_1: \\mu < \\mu_0$\n",
    "\n",
    "$RC = \\{\\bar{x} \\in \\mathbb{R}; \\bar{x}< x_c\\}$"
   ]
  },
  {
   "cell_type": "markdown",
   "metadata": {
    "id": "Vt0dKHZyMgyY"
   },
   "source": [
    "Exemplo\n",
    "\n",
    "$H_0: \\mu =18$ contra\n",
    "\n",
    "$H_1: \\mu<18$\n",
    "\n",
    "$RC = \\{\\bar{x} \\in \\mathbb{R}; \\bar{x}< x_c\\}$"
   ]
  },
  {
   "cell_type": "code",
   "execution_count": 1,
   "metadata": {
    "id": "WaGf3TkLMIpP"
   },
   "outputs": [
    {
     "name": "stderr",
     "output_type": "stream",
     "text": [
      "/home/cibele/anaconda3/lib/python3.7/site-packages/setuptools/_importlib.py:23: UserWarning: `importlib-metadata` version is incompatible with `setuptools`.\n",
      "This problem is likely to be solved by installing an updated version of `importlib-metadata`.\n",
      "  warnings.warn(msg)  # Ensure a descriptive message is shown.\n"
     ]
    }
   ],
   "source": [
    "from scipy.stats import norm\n",
    "import matplotlib.pyplot as plt\n",
    "import numpy as np"
   ]
  },
  {
   "cell_type": "code",
   "execution_count": 2,
   "metadata": {
    "colab": {
     "base_uri": "https://localhost:8080/"
    },
    "id": "xqGmVc59DzBk",
    "outputId": "0dcdd012-1543-45b2-adf5-d4259a7cd58c"
   },
   "outputs": [
    {
     "name": "stdout",
     "output_type": "stream",
     "text": [
      "RC = {xbarra < 16.2 }\n"
     ]
    }
   ],
   "source": [
    "# Dados do exercício\n",
    "\n",
    "mu0 = 18\n",
    "sigma = 6\n",
    "n=30\n",
    "xc = norm.ppf(0.05)*(sigma/np.sqrt(n)) + mu0\n",
    "                             \n",
    "print('RC = {xbarra <', np.round(xc,2), '}')"
   ]
  },
  {
   "cell_type": "code",
   "execution_count": 3,
   "metadata": {
    "colab": {
     "base_uri": "https://localhost:8080/"
    },
    "id": "o80tIlxEMIpS",
    "outputId": "330d9209-5a20-4a11-98ce-4f65152cd457"
   },
   "outputs": [
    {
     "name": "stdout",
     "output_type": "stream",
     "text": [
      "Rejeito H0\n"
     ]
    }
   ],
   "source": [
    "# xbarra observado e decisão do teste\n",
    "\n",
    "xbarra = 16\n",
    "\n",
    "if xbarra < xc: print ('Rejeito H0')"
   ]
  },
  {
   "cell_type": "code",
   "execution_count": 4,
   "metadata": {
    "colab": {
     "base_uri": "https://localhost:8080/"
    },
    "id": "ATU92U3nMIpT",
    "outputId": "6c5e5d9f-09ce-4520-8864-fff9bdd63391"
   },
   "outputs": [
    {
     "name": "stdout",
     "output_type": "stream",
     "text": [
      "valor-p 0.034\n"
     ]
    }
   ],
   "source": [
    "# Nível descritivo do teste\n",
    "\n",
    "z_obs = (xbarra - mu0)/(sigma/np.sqrt(n))\n",
    "\n",
    "print('valor-p', np.round(norm.cdf(z_obs),3))"
   ]
  },
  {
   "cell_type": "markdown",
   "metadata": {
    "id": "-LMHJFRPMIpU"
   },
   "source": [
    "## Teste de normalidade dos dados: Shapiro Wilk\n",
    "\n",
    "#### Atenção! Para usar testes paramétricos, testar a normalidade dos dados antes!"
   ]
  },
  {
   "cell_type": "markdown",
   "metadata": {
    "id": "vKBjYIwMMIpU"
   },
   "source": [
    "$X_1, \\ldots, X_n$ amostra aleatória \n",
    "\n",
    "$H_0: X_i \\sim Normal$ contra\n",
    "\n",
    "$H_1:  X_i $ tem outra distribuição\n"
   ]
  },
  {
   "cell_type": "code",
   "execution_count": 5,
   "metadata": {
    "colab": {
     "base_uri": "https://localhost:8080/"
    },
    "id": "oaawhwerMIpV",
    "outputId": "b2823350-80d5-453f-cac1-73cf146198da"
   },
   "outputs": [
    {
     "data": {
      "text/plain": [
       "ShapiroResult(statistic=0.9881118535995483, pvalue=0.51649010181427)"
      ]
     },
     "execution_count": 5,
     "metadata": {},
     "output_type": "execute_result"
    }
   ],
   "source": [
    "# Fonte: https://docs.scipy.org/doc/scipy/reference/generated/scipy.stats.shapiro.html\n",
    "\n",
    "from scipy import stats\n",
    "rng = np.random.default_rng()\n",
    "x = stats.norm.rvs(loc=5, scale=3, size=100, random_state=rng)\n",
    "shapiro_test = stats.shapiro(x)\n",
    "shapiro_test\n"
   ]
  },
  {
   "cell_type": "code",
   "execution_count": 6,
   "metadata": {
    "colab": {
     "base_uri": "https://localhost:8080/"
    },
    "id": "T_fusRa3MIpV",
    "outputId": "2973d2e9-38f4-4f67-9c61-6560022f2b86"
   },
   "outputs": [
    {
     "data": {
      "text/plain": [
       "0.9881118535995483"
      ]
     },
     "execution_count": 6,
     "metadata": {},
     "output_type": "execute_result"
    }
   ],
   "source": [
    "shapiro_test[0]"
   ]
  },
  {
   "cell_type": "code",
   "execution_count": 7,
   "metadata": {
    "id": "iobJyxo-MIpW",
    "outputId": "dbda6b73-9aec-4952-deb6-bc8b50571a53"
   },
   "outputs": [
    {
     "data": {
      "text/plain": [
       "0.51649010181427"
      ]
     },
     "execution_count": 7,
     "metadata": {},
     "output_type": "execute_result"
    }
   ],
   "source": [
    "shapiro_test.pvalue"
   ]
  },
  {
   "cell_type": "code",
   "execution_count": 8,
   "metadata": {
    "id": "4CpeAfdWMIpW",
    "outputId": "5a1888b2-758a-48a9-e100-03d24075a39d"
   },
   "outputs": [
    {
     "name": "stdout",
     "output_type": "stream",
     "text": [
      "Não rejeito H0\n"
     ]
    }
   ],
   "source": [
    "#decisão do teste\n",
    "\n",
    "if shapiro_test.pvalue < 0.05: print ('Rejeito H0') \n",
    "else: print ('Não rejeito H0')"
   ]
  },
  {
   "cell_type": "markdown",
   "metadata": {
    "id": "9A4n7rf9MIpX"
   },
   "source": [
    "## Teste a média de uma população com a variância desconhecida"
   ]
  },
  {
   "cell_type": "markdown",
   "metadata": {
    "id": "-rRk6fGHMIpX"
   },
   "source": [
    "$X_i \\sim N(\\mu, \\sigma^2)$ com $\\sigma^2$ desconhecido\n",
    "\n",
    "$X_1, \\ldots, X_n$ amostra aleatória \n",
    "\n",
    "Considere avaliar\n",
    "\n",
    "$H_0: \\mu =\\mu_0$ contra\n",
    "\n",
    "$H_1: \\mu>\\mu_0$\n",
    "\n",
    "$RC = \\{T \\in \\mathbb{R}; T > t_c\\}$"
   ]
  },
  {
   "cell_type": "markdown",
   "metadata": {
    "id": "ENVv2iUGM0zJ"
   },
   "source": [
    "Exemplo:\n",
    "\n",
    "$H_0: \\mu =30$ contra\n",
    "\n",
    "$H_1: \\mu>30$\n"
   ]
  },
  {
   "cell_type": "code",
   "execution_count": 9,
   "metadata": {
    "id": "oE3ORw0vMIpX"
   },
   "outputs": [],
   "source": [
    "from scipy.stats import t\n",
    "import matplotlib.pyplot as plt\n",
    "import numpy as np"
   ]
  },
  {
   "cell_type": "code",
   "execution_count": 10,
   "metadata": {
    "colab": {
     "base_uri": "https://localhost:8080/"
    },
    "id": "R5sxbA6nMIpY",
    "outputId": "d57c9b1f-07f7-400b-b9de-ebcb797daf6e"
   },
   "outputs": [
    {
     "name": "stdout",
     "output_type": "stream",
     "text": [
      "RC = {t > 31.03 }\n"
     ]
    }
   ],
   "source": [
    "# Dados do exercício\n",
    "\n",
    "mu0 = 30\n",
    "s = 3\n",
    "n=25\n",
    "\n",
    "tc = mu0-t.ppf(0.05, n-1)*(s/np.sqrt(n)) \n",
    "                             \n",
    "print('RC = {t >', np.round(tc,2), '}')"
   ]
  },
  {
   "cell_type": "code",
   "execution_count": 11,
   "metadata": {
    "id": "msnfC3vsMIpY",
    "outputId": "98301c04-ea8c-4704-89ba-25b1b48012cd"
   },
   "outputs": [
    {
     "name": "stdout",
     "output_type": "stream",
     "text": [
      "Rejeito H0\n"
     ]
    }
   ],
   "source": [
    "# t observado e decisão do teste\n",
    "\n",
    "tobs = 31.5\n",
    "\n",
    "if tobs > tc: print ('Rejeito H0')\n",
    "else: print('Não rejeito H0')"
   ]
  },
  {
   "cell_type": "code",
   "execution_count": 12,
   "metadata": {
    "id": "4ImD9UZ0MIpZ",
    "outputId": "30167af2-1a45-4a59-9cf8-d043e4869575"
   },
   "outputs": [
    {
     "name": "stdout",
     "output_type": "stream",
     "text": [
      "valor-p 0.04\n"
     ]
    }
   ],
   "source": [
    "# Nível descritivo do teste\n",
    "\n",
    "print('valor-p', np.round(t.cdf(z_obs, n-1),3))"
   ]
  },
  {
   "cell_type": "code",
   "execution_count": null,
   "metadata": {
    "id": "wGnhfKlNMIpZ"
   },
   "outputs": [],
   "source": []
  },
  {
   "cell_type": "code",
   "execution_count": 13,
   "metadata": {
    "id": "i8ZUYj07MIpZ"
   },
   "outputs": [],
   "source": [
    "from scipy.stats import t\n",
    "import matplotlib.pyplot as plt\n",
    "import numpy as np"
   ]
  },
  {
   "cell_type": "code",
   "execution_count": 14,
   "metadata": {
    "colab": {
     "base_uri": "https://localhost:8080/"
    },
    "id": "wL2Ien70MIpZ",
    "outputId": "d57c9b1f-07f7-400b-b9de-ebcb797daf6e"
   },
   "outputs": [
    {
     "name": "stdout",
     "output_type": "stream",
     "text": [
      "RC = {xbarra > 1.03 }\n"
     ]
    }
   ],
   "source": [
    "# Dados do exercício\n",
    "\n",
    "mu0 = 0\n",
    "s = 3\n",
    "n=25\n",
    "\n",
    "tc = mu0-t.ppf(0.05, n-1)*(s/np.sqrt(n)) \n",
    "                             \n",
    "print('RC = {xbarra >', np.round(tc,2), '}')"
   ]
  },
  {
   "cell_type": "code",
   "execution_count": 15,
   "metadata": {
    "id": "7RhkCeUiMIpa",
    "outputId": "f30fdc7d-5990-4aa9-b146-0780629ad6fc"
   },
   "outputs": [
    {
     "name": "stdout",
     "output_type": "stream",
     "text": [
      "Rejeito H0\n"
     ]
    }
   ],
   "source": [
    "# t observado e decisão do teste\n",
    "\n",
    "tobs = 31.5\n",
    "\n",
    "if tobs > tc: print ('Rejeito H0')\n",
    "else: print('Não rejeito H0')"
   ]
  },
  {
   "cell_type": "code",
   "execution_count": 16,
   "metadata": {
    "id": "Gklu1cXbMIpa",
    "outputId": "12e08798-f8b7-4b25-e310-0ffacd2b806b"
   },
   "outputs": [
    {
     "name": "stdout",
     "output_type": "stream",
     "text": [
      "valor-p 0.04\n"
     ]
    }
   ],
   "source": [
    "# Nível descritivo do teste\n",
    "\n",
    "print('valor-p', np.round(t.cdf(z_obs, n-1),3))"
   ]
  },
  {
   "cell_type": "code",
   "execution_count": null,
   "metadata": {
    "id": "rFUu-EzcM38o"
   },
   "outputs": [],
   "source": []
  },
  {
   "cell_type": "markdown",
   "metadata": {
    "id": "Be42AUfEcTo-"
   },
   "source": [
    "## Notas reais e declaradas - Teste T pareado"
   ]
  },
  {
   "cell_type": "code",
   "execution_count": 17,
   "metadata": {
    "id": "FaPIiqbocTo-",
    "outputId": "70323507-9aeb-4b80-a73b-eb78a9b736ec"
   },
   "outputs": [
    {
     "name": "stderr",
     "output_type": "stream",
     "text": [
      "/home/cibele/anaconda3/lib/python3.7/site-packages/pandas/compat/_optional.py:138: UserWarning: Pandas requires version '2.7.0' or newer of 'numexpr' (version '2.6.9' currently installed).\n",
      "  warnings.warn(msg, UserWarning)\n"
     ]
    },
    {
     "data": {
      "text/html": [
       "<div>\n",
       "<style scoped>\n",
       "    .dataframe tbody tr th:only-of-type {\n",
       "        vertical-align: middle;\n",
       "    }\n",
       "\n",
       "    .dataframe tbody tr th {\n",
       "        vertical-align: top;\n",
       "    }\n",
       "\n",
       "    .dataframe thead th {\n",
       "        text-align: right;\n",
       "    }\n",
       "</style>\n",
       "<table border=\"1\" class=\"dataframe\">\n",
       "  <thead>\n",
       "    <tr style=\"text-align: right;\">\n",
       "      <th></th>\n",
       "      <th>Nota P1</th>\n",
       "      <th>Nota declarada</th>\n",
       "    </tr>\n",
       "    <tr>\n",
       "      <th>Id Aluno</th>\n",
       "      <th></th>\n",
       "      <th></th>\n",
       "    </tr>\n",
       "  </thead>\n",
       "  <tbody>\n",
       "    <tr>\n",
       "      <th>1</th>\n",
       "      <td>0.6</td>\n",
       "      <td>3.0</td>\n",
       "    </tr>\n",
       "    <tr>\n",
       "      <th>2</th>\n",
       "      <td>1.6</td>\n",
       "      <td>NaN</td>\n",
       "    </tr>\n",
       "    <tr>\n",
       "      <th>3</th>\n",
       "      <td>1.6</td>\n",
       "      <td>1.6</td>\n",
       "    </tr>\n",
       "    <tr>\n",
       "      <th>4</th>\n",
       "      <td>2.3</td>\n",
       "      <td>NaN</td>\n",
       "    </tr>\n",
       "    <tr>\n",
       "      <th>5</th>\n",
       "      <td>3.0</td>\n",
       "      <td>3.6</td>\n",
       "    </tr>\n",
       "  </tbody>\n",
       "</table>\n",
       "</div>"
      ],
      "text/plain": [
       "          Nota P1  Nota declarada\n",
       "Id Aluno                         \n",
       "1             0.6             3.0\n",
       "2             1.6             NaN\n",
       "3             1.6             1.6\n",
       "4             2.3             NaN\n",
       "5             3.0             3.6"
      ]
     },
     "execution_count": 17,
     "metadata": {},
     "output_type": "execute_result"
    }
   ],
   "source": [
    "import pandas as pd\n",
    "\n",
    "dados = pd.read_csv('https://raw.githubusercontent.com/cibelerusso/IntroducaoaInferenciaEstatistica/main/Dados/NotasP1.csv', decimal=',', index_col=0, sep=';',na_values='-')\n",
    "dados.head()\n"
   ]
  },
  {
   "cell_type": "code",
   "execution_count": 18,
   "metadata": {
    "id": "Zs2iISb_cTo_",
    "outputId": "f1c3e170-496d-47a4-adee-e5873df129ab"
   },
   "outputs": [
    {
     "data": {
      "text/plain": [
       "array([-2.4,  nan,  0. ,  nan, -0.6,  nan,  nan,  0.1, -0.4,  nan, -2.7,\n",
       "       -0.9, -0.6,  1. ,  nan,  2.7,  1.9, -0.7,  2. ,  0.4, -1.5,  1.3,\n",
       "        1.6,  1. , -0.7,  nan,  nan,  3.3,  0. , -0.5,  0.5,  3.2, -0.6,\n",
       "        1.7,  1.3,  1.4,  1. ])"
      ]
     },
     "execution_count": 18,
     "metadata": {},
     "output_type": "execute_result"
    }
   ],
   "source": [
    "dados['Diferença'] = dados['Nota P1']-dados['Nota declarada'] \n",
    "np.asarray(dados['Diferença'])"
   ]
  },
  {
   "cell_type": "code",
   "execution_count": 19,
   "metadata": {
    "id": "qlSR5i7ScTo_",
    "outputId": "dcbea4e3-6dd5-4a2a-a6f0-17ff6636c145"
   },
   "outputs": [
    {
     "data": {
      "text/plain": [
       "<matplotlib.axes._subplots.AxesSubplot at 0x7fc1ab39f0b8>"
      ]
     },
     "execution_count": 19,
     "metadata": {},
     "output_type": "execute_result"
    },
    {
     "data": {
      "image/png": "[encoded data removed]",
      "text/plain": [
       "<Figure size 432x288 with 1 Axes>"
      ]
     },
     "metadata": {
      "needs_background": "light"
     },
     "output_type": "display_data"
    }
   ],
   "source": [
    "import seaborn as sns\n",
    "sns.boxplot(x=dados['Nota P1']-dados['Nota declarada'])"
   ]
  },
  {
   "cell_type": "code",
   "execution_count": 20,
   "metadata": {
    "id": "FpBiw4aBcTo_",
    "outputId": "288c175d-7377-4eb7-f719-a4b1b351dbae"
   },
   "outputs": [
    {
     "data": {
      "text/html": [
       "<div>\n",
       "<style scoped>\n",
       "    .dataframe tbody tr th:only-of-type {\n",
       "        vertical-align: middle;\n",
       "    }\n",
       "\n",
       "    .dataframe tbody tr th {\n",
       "        vertical-align: top;\n",
       "    }\n",
       "\n",
       "    .dataframe thead th {\n",
       "        text-align: right;\n",
       "    }\n",
       "</style>\n",
       "<table border=\"1\" class=\"dataframe\">\n",
       "  <thead>\n",
       "    <tr style=\"text-align: right;\">\n",
       "      <th></th>\n",
       "      <th>Nota</th>\n",
       "      <th>Tipo</th>\n",
       "    </tr>\n",
       "  </thead>\n",
       "  <tbody>\n",
       "    <tr>\n",
       "      <th>0</th>\n",
       "      <td>0.6</td>\n",
       "      <td>Nota P1</td>\n",
       "    </tr>\n",
       "    <tr>\n",
       "      <th>1</th>\n",
       "      <td>1.6</td>\n",
       "      <td>Nota P1</td>\n",
       "    </tr>\n",
       "    <tr>\n",
       "      <th>2</th>\n",
       "      <td>1.6</td>\n",
       "      <td>Nota P1</td>\n",
       "    </tr>\n",
       "    <tr>\n",
       "      <th>3</th>\n",
       "      <td>2.3</td>\n",
       "      <td>Nota P1</td>\n",
       "    </tr>\n",
       "    <tr>\n",
       "      <th>4</th>\n",
       "      <td>3.0</td>\n",
       "      <td>Nota P1</td>\n",
       "    </tr>\n",
       "    <tr>\n",
       "      <th>...</th>\n",
       "      <td>...</td>\n",
       "      <td>...</td>\n",
       "    </tr>\n",
       "    <tr>\n",
       "      <th>69</th>\n",
       "      <td>9.4</td>\n",
       "      <td>Nota declarada</td>\n",
       "    </tr>\n",
       "    <tr>\n",
       "      <th>70</th>\n",
       "      <td>7.3</td>\n",
       "      <td>Nota declarada</td>\n",
       "    </tr>\n",
       "    <tr>\n",
       "      <th>71</th>\n",
       "      <td>7.7</td>\n",
       "      <td>Nota declarada</td>\n",
       "    </tr>\n",
       "    <tr>\n",
       "      <th>72</th>\n",
       "      <td>8.0</td>\n",
       "      <td>Nota declarada</td>\n",
       "    </tr>\n",
       "    <tr>\n",
       "      <th>73</th>\n",
       "      <td>9.0</td>\n",
       "      <td>Nota declarada</td>\n",
       "    </tr>\n",
       "  </tbody>\n",
       "</table>\n",
       "<p>74 rows × 2 columns</p>\n",
       "</div>"
      ],
      "text/plain": [
       "    Nota            Tipo\n",
       "0    0.6         Nota P1\n",
       "1    1.6         Nota P1\n",
       "2    1.6         Nota P1\n",
       "3    2.3         Nota P1\n",
       "4    3.0         Nota P1\n",
       "..   ...             ...\n",
       "69   9.4  Nota declarada\n",
       "70   7.3  Nota declarada\n",
       "71   7.7  Nota declarada\n",
       "72   8.0  Nota declarada\n",
       "73   9.0  Nota declarada\n",
       "\n",
       "[74 rows x 2 columns]"
      ]
     },
     "execution_count": 20,
     "metadata": {},
     "output_type": "execute_result"
    }
   ],
   "source": [
    "# dados empilhados - outra possibilidade para realizar o teste t-pareado\n",
    "\n",
    "df1 = pd.DataFrame(dados['Nota P1'])\n",
    "df1.rename(columns={'Nota P1': 'Nota'}, inplace=True)\n",
    "df1['Tipo'] = 'Nota P1'\n",
    "\n",
    "df2 = pd.DataFrame(dados['Nota declarada'])\n",
    "df2.rename(columns={'Nota declarada': 'Nota'}, inplace=True)\n",
    "df2['Tipo'] = 'Nota declarada'\n",
    "\n",
    "dados_empilhados = pd.concat([df1, df2], verify_integrity=True,ignore_index=True)\n",
    "dados_empilhados"
   ]
  },
  {
   "cell_type": "code",
   "execution_count": 21,
   "metadata": {
    "id": "I43Kv7ExcTpA",
    "outputId": "ffd530c2-39fd-48f6-dbe0-cf2909cc401d"
   },
   "outputs": [
    {
     "data": {
      "text/plain": [
       "<seaborn.axisgrid.FacetGrid at 0x7fc1abbc9748>"
      ]
     },
     "execution_count": 21,
     "metadata": {},
     "output_type": "execute_result"
    },
    {
     "data": {
      "image/png": "[encoded data removed]",
      "text/plain": [
       "<Figure size 472.375x360 with 1 Axes>"
      ]
     },
     "metadata": {
      "needs_background": "light"
     },
     "output_type": "display_data"
    }
   ],
   "source": [
    "sns.displot(data=dados_empilhados, x='Nota', hue='Tipo', kind='kde', fill=True)"
   ]
  },
  {
   "cell_type": "code",
   "execution_count": 22,
   "metadata": {
    "id": "dSv5WF_FcTpA",
    "outputId": "9a116588-9b25-4ffc-e6d8-50abb4b3145f"
   },
   "outputs": [
    {
     "data": {
      "text/plain": [
       "ShapiroResult(statistic=0.9763895869255066, pvalue=0.7403369545936584)"
      ]
     },
     "execution_count": 22,
     "metadata": {},
     "output_type": "execute_result"
    }
   ],
   "source": [
    "shapiro_test = stats.shapiro(np.asarray(dados['Diferença'].dropna()))\n",
    "shapiro_test"
   ]
  },
  {
   "cell_type": "code",
   "execution_count": 23,
   "metadata": {
    "id": "6f_HDdcJcTpA",
    "outputId": "19992224-d84b-4924-b237-cd9a82e7a3d8"
   },
   "outputs": [
    {
     "data": {
      "text/plain": [
       "count    29.000000\n",
       "mean      0.441379\n",
       "std       1.502027\n",
       "min      -2.700000\n",
       "25%      -0.600000\n",
       "50%       0.400000\n",
       "75%       1.400000\n",
       "max       3.300000\n",
       "Name: Diferença, dtype: float64"
      ]
     },
     "execution_count": 23,
     "metadata": {},
     "output_type": "execute_result"
    }
   ],
   "source": [
    "dados['Diferença'].describe()"
   ]
  },
  {
   "cell_type": "code",
   "execution_count": 24,
   "metadata": {
    "id": "CbQ324ilcTpA",
    "outputId": "b4eb276e-e12c-4a7c-8ea1-974553bb312a"
   },
   "outputs": [
    {
     "name": "stdout",
     "output_type": "stream",
     "text": [
      "RC = {t < -0.57 ou t > 0.57 }\n"
     ]
    }
   ],
   "source": [
    "from scipy.stats import t\n",
    "import matplotlib.pyplot as plt\n",
    "import numpy as np\n",
    "\n",
    "# Dados do exercício\n",
    "\n",
    "mu0 = 0\n",
    "s = 1.5\n",
    "n = 29\n",
    "\n",
    "tc = mu0-t.ppf(0.025, n-1)*(s/np.sqrt(n)) \n",
    "tc_ = mu0+t.ppf(0.025, n-1)*(s/np.sqrt(n)) \n",
    "                             \n",
    "print('RC = {t <', np.round(tc_,2), 'ou t >', np.round(tc,2), '}')"
   ]
  },
  {
   "cell_type": "code",
   "execution_count": 25,
   "metadata": {
    "id": "L-7EC93CcTpB",
    "outputId": "2048a284-a353-4119-d30b-a32b80188b35"
   },
   "outputs": [
    {
     "data": {
      "text/plain": [
       "1.5845991049388135"
      ]
     },
     "execution_count": 25,
     "metadata": {},
     "output_type": "execute_result"
    }
   ],
   "source": [
    "# Cálculo da estatística observada\n",
    "tobs = (0.441379 - 0)/(s/np.sqrt(n))\n",
    "tobs"
   ]
  },
  {
   "cell_type": "code",
   "execution_count": 26,
   "metadata": {
    "id": "Xl0nNKErcTpB",
    "outputId": "84115b55-d5ab-4264-bf38-291338e7e62f"
   },
   "outputs": [
    {
     "name": "stdout",
     "output_type": "stream",
     "text": [
      "Rejeito H0\n"
     ]
    }
   ],
   "source": [
    "if ((tobs > tc) or (tobs < tc_)) : print ('Rejeito H0')\n",
    "else: print('Não rejeito H0')"
   ]
  },
  {
   "cell_type": "markdown",
   "metadata": {
    "id": "_HxUkQSBcTpB"
   },
   "source": [
    "## Teste t-pareado via comando do pacote scipy\n"
   ]
  },
  {
   "cell_type": "code",
   "execution_count": 27,
   "metadata": {},
   "outputs": [
    {
     "data": {
      "text/plain": [
       "Ttest_relResult(statistic=1.5824622644302078, pvalue=0.1247755020476031)"
      ]
     },
     "execution_count": 27,
     "metadata": {},
     "output_type": "execute_result"
    }
   ],
   "source": [
    "from scipy import stats\n",
    "\n",
    "dados1 = dados.dropna()\n",
    "\n",
    "stats.ttest_rel(dados1['Nota P1'], dados1['Nota declarada'], alternative='two-sided')\n"
   ]
  },
  {
   "cell_type": "markdown",
   "metadata": {},
   "source": [
    "## Teste t para populações independentes via comando do pacote scipy"
   ]
  },
  {
   "cell_type": "code",
   "execution_count": 28,
   "metadata": {},
   "outputs": [],
   "source": [
    "# Fonte: Adaptado de https://towardsdatascience.com/hypothesis-testing-with-python-step-by-step-hands-on-tutorial-with-practical-examples-e805975ea96e\n",
    "\n",
    "x=[4.57, 4.55, 5.47, 4.67, 5.41, 4.55, 4.53, 5.63, 3.86, 3.97, 4.44, 3.93, 5.31, 5.17, 4.39, 4.28, 5.25]\n",
    "y = [4.27, 3.93, 4.01, 4.07, 3.87, 4. , 4. , 3.72, 4.16, 4.1 , 3.9 , 3.97, 4.08, 3.96, 3.96, 3.77, 4.09]\n",
    "\n"
   ]
  },
  {
   "cell_type": "code",
   "execution_count": 29,
   "metadata": {},
   "outputs": [
    {
     "data": {
      "text/plain": [
       "ShapiroResult(statistic=0.9251947999000549, pvalue=0.18073347210884094)"
      ]
     },
     "execution_count": 29,
     "metadata": {},
     "output_type": "execute_result"
    }
   ],
   "source": [
    "# Teste de normalidade para cada amostra\n",
    "\n",
    "stats.shapiro(x)"
   ]
  },
  {
   "cell_type": "code",
   "execution_count": 30,
   "metadata": {},
   "outputs": [
    {
     "data": {
      "text/plain": [
       "ShapiroResult(statistic=0.9801783561706543, pvalue=0.9587069153785706)"
      ]
     },
     "execution_count": 30,
     "metadata": {},
     "output_type": "execute_result"
    }
   ],
   "source": [
    "stats.shapiro(y)"
   ]
  },
  {
   "cell_type": "code",
   "execution_count": 31,
   "metadata": {},
   "outputs": [
    {
     "data": {
      "text/plain": [
       "Ttest_indResult(statistic=5.053219601953828, pvalue=1.7023151261316524e-05)"
      ]
     },
     "execution_count": 31,
     "metadata": {},
     "output_type": "execute_result"
    }
   ],
   "source": [
    "stats.ttest_ind(x,y)"
   ]
  },
  {
   "cell_type": "markdown",
   "metadata": {},
   "source": [
    "## Teste Qui-quadrado para independência entre variáveis usando o scipy"
   ]
  },
  {
   "cell_type": "code",
   "execution_count": 32,
   "metadata": {},
   "outputs": [
    {
     "data": {
      "text/html": [
       "<div>\n",
       "<style scoped>\n",
       "    .dataframe tbody tr th:only-of-type {\n",
       "        vertical-align: middle;\n",
       "    }\n",
       "\n",
       "    .dataframe tbody tr th {\n",
       "        vertical-align: top;\n",
       "    }\n",
       "\n",
       "    .dataframe thead th {\n",
       "        text-align: right;\n",
       "    }\n",
       "</style>\n",
       "<table border=\"1\" class=\"dataframe\">\n",
       "  <thead>\n",
       "    <tr style=\"text-align: right;\">\n",
       "      <th></th>\n",
       "      <th>estado_civil</th>\n",
       "      <th>instrucao</th>\n",
       "      <th>nfilhos</th>\n",
       "      <th>salario</th>\n",
       "      <th>idade_anos</th>\n",
       "      <th>idade_meses</th>\n",
       "      <th>regiao</th>\n",
       "    </tr>\n",
       "    <tr>\n",
       "      <th>funcionario</th>\n",
       "      <th></th>\n",
       "      <th></th>\n",
       "      <th></th>\n",
       "      <th></th>\n",
       "      <th></th>\n",
       "      <th></th>\n",
       "      <th></th>\n",
       "    </tr>\n",
       "  </thead>\n",
       "  <tbody>\n",
       "    <tr>\n",
       "      <th>1</th>\n",
       "      <td>solteiro</td>\n",
       "      <td>ensino_fundamental</td>\n",
       "      <td>NaN</td>\n",
       "      <td>4.00</td>\n",
       "      <td>26</td>\n",
       "      <td>3</td>\n",
       "      <td>interior</td>\n",
       "    </tr>\n",
       "    <tr>\n",
       "      <th>2</th>\n",
       "      <td>casado</td>\n",
       "      <td>ensino_fundamental</td>\n",
       "      <td>1.0</td>\n",
       "      <td>4.56</td>\n",
       "      <td>32</td>\n",
       "      <td>10</td>\n",
       "      <td>capital</td>\n",
       "    </tr>\n",
       "    <tr>\n",
       "      <th>3</th>\n",
       "      <td>casado</td>\n",
       "      <td>ensino_fundamental</td>\n",
       "      <td>2.0</td>\n",
       "      <td>5.25</td>\n",
       "      <td>36</td>\n",
       "      <td>5</td>\n",
       "      <td>capital</td>\n",
       "    </tr>\n",
       "    <tr>\n",
       "      <th>4</th>\n",
       "      <td>solteiro</td>\n",
       "      <td>ensino_medio</td>\n",
       "      <td>NaN</td>\n",
       "      <td>5.73</td>\n",
       "      <td>20</td>\n",
       "      <td>10</td>\n",
       "      <td>outro</td>\n",
       "    </tr>\n",
       "    <tr>\n",
       "      <th>5</th>\n",
       "      <td>solteiro</td>\n",
       "      <td>ensino_fundamental</td>\n",
       "      <td>NaN</td>\n",
       "      <td>6.26</td>\n",
       "      <td>40</td>\n",
       "      <td>7</td>\n",
       "      <td>outro</td>\n",
       "    </tr>\n",
       "  </tbody>\n",
       "</table>\n",
       "</div>"
      ],
      "text/plain": [
       "            estado_civil           instrucao  nfilhos salario  idade_anos  \\\n",
       "funcionario                                                                 \n",
       "1               solteiro  ensino_fundamental      NaN    4.00          26   \n",
       "2                 casado  ensino_fundamental      1.0    4.56          32   \n",
       "3                 casado  ensino_fundamental      2.0    5.25          36   \n",
       "4               solteiro        ensino_medio      NaN    5.73          20   \n",
       "5               solteiro  ensino_fundamental      NaN    6.26          40   \n",
       "\n",
       "             idade_meses    regiao  \n",
       "funcionario                         \n",
       "1                      3  interior  \n",
       "2                     10   capital  \n",
       "3                      5   capital  \n",
       "4                     10     outro  \n",
       "5                      7     outro  "
      ]
     },
     "execution_count": 32,
     "metadata": {},
     "output_type": "execute_result"
    }
   ],
   "source": [
    "# Exemplo: verificar se na Companhia MB o estado civil é independente do grau de instrução\n",
    "\n",
    "from scipy.stats import chisquare\n",
    "\n",
    "dados = pd.read_csv('https://raw.githubusercontent.com/cibelerusso/IntroducaoaInferenciaEstatistica/main/Dados/CompanhiaMB.csv', decimal=',', index_col=0, sep=',',na_values='NA')\n",
    "dados.head()\n",
    "\n"
   ]
  },
  {
   "cell_type": "code",
   "execution_count": 33,
   "metadata": {},
   "outputs": [],
   "source": [
    "tab = pd.crosstab(dados['estado_civil'], dados['instrucao'])"
   ]
  },
  {
   "cell_type": "code",
   "execution_count": 34,
   "metadata": {},
   "outputs": [
    {
     "data": {
      "text/plain": [
       "<matplotlib.axes._subplots.AxesSubplot at 0x7fc1a91a4a20>"
      ]
     },
     "execution_count": 34,
     "metadata": {},
     "output_type": "execute_result"
    },
    {
     "data": {
      "image/png": "[encoded data removed]",
      "text/plain": [
       "<Figure size 432x288 with 1 Axes>"
      ]
     },
     "metadata": {
      "needs_background": "light"
     },
     "output_type": "display_data"
    }
   ],
   "source": [
    "tab.plot.bar()"
   ]
  },
  {
   "cell_type": "code",
   "execution_count": 35,
   "metadata": {},
   "outputs": [
    {
     "data": {
      "image/png": "[encoded data removed]",
      "text/plain": [
       "<Figure size 432x288 with 3 Axes>"
      ]
     },
     "metadata": {
      "needs_background": "light"
     },
     "output_type": "display_data"
    }
   ],
   "source": [
    "from statsmodels.graphics.mosaicplot import mosaic\n",
    "\n",
    "mosaic(dados, ['estado_civil', 'instrucao']);"
   ]
  },
  {
   "cell_type": "code",
   "execution_count": 36,
   "metadata": {},
   "outputs": [
    {
     "data": {
      "text/html": [
       "<div>\n",
       "<style scoped>\n",
       "    .dataframe tbody tr th:only-of-type {\n",
       "        vertical-align: middle;\n",
       "    }\n",
       "\n",
       "    .dataframe tbody tr th {\n",
       "        vertical-align: top;\n",
       "    }\n",
       "\n",
       "    .dataframe thead th {\n",
       "        text-align: right;\n",
       "    }\n",
       "</style>\n",
       "<table border=\"1\" class=\"dataframe\">\n",
       "  <thead>\n",
       "    <tr style=\"text-align: right;\">\n",
       "      <th>instrucao</th>\n",
       "      <th>ensino_fundamental</th>\n",
       "      <th>ensino_medio</th>\n",
       "      <th>superior</th>\n",
       "    </tr>\n",
       "    <tr>\n",
       "      <th>estado_civil</th>\n",
       "      <th></th>\n",
       "      <th></th>\n",
       "      <th></th>\n",
       "    </tr>\n",
       "  </thead>\n",
       "  <tbody>\n",
       "    <tr>\n",
       "      <th>casado</th>\n",
       "      <td>5</td>\n",
       "      <td>12</td>\n",
       "      <td>3</td>\n",
       "    </tr>\n",
       "    <tr>\n",
       "      <th>solteiro</th>\n",
       "      <td>7</td>\n",
       "      <td>6</td>\n",
       "      <td>3</td>\n",
       "    </tr>\n",
       "  </tbody>\n",
       "</table>\n",
       "</div>"
      ],
      "text/plain": [
       "instrucao     ensino_fundamental  ensino_medio  superior\n",
       "estado_civil                                            \n",
       "casado                         5            12         3\n",
       "solteiro                       7             6         3"
      ]
     },
     "execution_count": 36,
     "metadata": {},
     "output_type": "execute_result"
    }
   ],
   "source": [
    "tab"
   ]
  },
  {
   "cell_type": "code",
   "execution_count": 37,
   "metadata": {},
   "outputs": [
    {
     "data": {
      "text/plain": [
       "(1.9125000000000003,\n",
       " 0.3843314298815499,\n",
       " 2,\n",
       " array([[ 6.66666667, 10.        ,  3.33333333],\n",
       "        [ 5.33333333,  8.        ,  2.66666667]]))"
      ]
     },
     "execution_count": 37,
     "metadata": {},
     "output_type": "execute_result"
    }
   ],
   "source": [
    "Q2 = stats.chi2_contingency(tab)\n",
    "Q2"
   ]
  },
  {
   "cell_type": "markdown",
   "metadata": {},
   "source": [
    "## Teste Qui-quadrado para homogeneidade usando o scipy"
   ]
  },
  {
   "cell_type": "code",
   "execution_count": 38,
   "metadata": {},
   "outputs": [
    {
     "data": {
      "text/html": [
       "<div>\n",
       "<style scoped>\n",
       "    .dataframe tbody tr th:only-of-type {\n",
       "        vertical-align: middle;\n",
       "    }\n",
       "\n",
       "    .dataframe tbody tr th {\n",
       "        vertical-align: top;\n",
       "    }\n",
       "\n",
       "    .dataframe thead th {\n",
       "        text-align: right;\n",
       "    }\n",
       "</style>\n",
       "<table border=\"1\" class=\"dataframe\">\n",
       "  <thead>\n",
       "    <tr style=\"text-align: right;\">\n",
       "      <th>instrucao</th>\n",
       "      <th>ensino_fundamental</th>\n",
       "      <th>ensino_medio</th>\n",
       "      <th>superior</th>\n",
       "      <th>Total</th>\n",
       "    </tr>\n",
       "    <tr>\n",
       "      <th>regiao</th>\n",
       "      <th></th>\n",
       "      <th></th>\n",
       "      <th></th>\n",
       "      <th></th>\n",
       "    </tr>\n",
       "  </thead>\n",
       "  <tbody>\n",
       "    <tr>\n",
       "      <th>capital</th>\n",
       "      <td>4</td>\n",
       "      <td>5</td>\n",
       "      <td>2</td>\n",
       "      <td>11</td>\n",
       "    </tr>\n",
       "    <tr>\n",
       "      <th>interior</th>\n",
       "      <td>3</td>\n",
       "      <td>7</td>\n",
       "      <td>2</td>\n",
       "      <td>12</td>\n",
       "    </tr>\n",
       "    <tr>\n",
       "      <th>outro</th>\n",
       "      <td>5</td>\n",
       "      <td>6</td>\n",
       "      <td>2</td>\n",
       "      <td>13</td>\n",
       "    </tr>\n",
       "    <tr>\n",
       "      <th>Total</th>\n",
       "      <td>12</td>\n",
       "      <td>18</td>\n",
       "      <td>6</td>\n",
       "      <td>36</td>\n",
       "    </tr>\n",
       "  </tbody>\n",
       "</table>\n",
       "</div>"
      ],
      "text/plain": [
       "instrucao  ensino_fundamental  ensino_medio  superior  Total\n",
       "regiao                                                      \n",
       "capital                     4             5         2     11\n",
       "interior                    3             7         2     12\n",
       "outro                       5             6         2     13\n",
       "Total                      12            18         6     36"
      ]
     },
     "execution_count": 38,
     "metadata": {},
     "output_type": "execute_result"
    }
   ],
   "source": [
    "# Exemplo: verificar se na Companhia MB o grau de instrução é homogêneo em diferentes regiões?\n",
    "\n",
    "tab = pd.crosstab(dados['regiao'], dados['instrucao'], margins='columns', margins_name='Total')\n",
    "tab\n"
   ]
  },
  {
   "cell_type": "code",
   "execution_count": 39,
   "metadata": {},
   "outputs": [
    {
     "data": {
      "text/plain": [
       "(0.6614219114219115,\n",
       " 0.9998996069783075,\n",
       " 9,\n",
       " array([[ 3.66666667,  5.5       ,  1.83333333, 11.        ],\n",
       "        [ 4.        ,  6.        ,  2.        , 12.        ],\n",
       "        [ 4.33333333,  6.5       ,  2.16666667, 13.        ],\n",
       "        [12.        , 18.        ,  6.        , 36.        ]]))"
      ]
     },
     "execution_count": 39,
     "metadata": {},
     "output_type": "execute_result"
    }
   ],
   "source": [
    "Q2 = stats.chi2_contingency(tab)\n",
    "Q2"
   ]
  },
  {
   "cell_type": "markdown",
   "metadata": {},
   "source": [
    "## Teste para variância de uma população"
   ]
  },
  {
   "cell_type": "markdown",
   "metadata": {},
   "source": [
    "Considere avaliar\n",
    "\n",
    "$H_0: \\sigma^2 = \\sigma^2_0$ contra\n",
    "\n",
    "$H_1: \\sigma^2 \\neq \\sigma^2_0$.\n",
    "\n",
    "Usamos a estatística baseada na variância amostral observada $s^2$\n",
    "\n",
    "$v = \\displaystyle\\frac{(n-1)s^2}{\\sigma^2_0}$\n",
    "\n",
    "$RC = \\{v \\in \\mathbb{R}^+; v < v_{c1} \\mbox{  ou  }  v > v_{c2}\\}$"
   ]
  },
  {
   "cell_type": "code",
   "execution_count": 40,
   "metadata": {},
   "outputs": [
    {
     "name": "stdout",
     "output_type": "stream",
     "text": [
      "RC = {v < 8.91 ou v > 32.85 }\n",
      "Não rejeito H0.\n"
     ]
    }
   ],
   "source": [
    "from scipy.stats import chi2\n",
    "\n",
    "# Dados do exercício\n",
    "\n",
    "\n",
    "s2 = 1.5\n",
    "sigma2_0 = 1\n",
    "n = 20\n",
    "                             \n",
    "vobs = (n-1) * s2 / sigma2_0 \n",
    "\n",
    "vc1 = chi2.ppf(0.025, n-1)\n",
    "vc2 = chi2.ppf(0.975, n-1)\n",
    "                             \n",
    "print('RC = {v <', np.round(vc1,2), 'ou v >', np.round(vc2,2), '}')\n",
    "\n",
    "if ((vobs > vc2) or (vobs < vc1)) : print ('Rejeito H0')\n",
    "else: print('Não rejeito H0.')"
   ]
  },
  {
   "cell_type": "code",
   "execution_count": null,
   "metadata": {},
   "outputs": [],
   "source": []
  },
  {
   "cell_type": "markdown",
   "metadata": {},
   "source": [
    "## Teste F para igualdade de variâncias de duas populações"
   ]
  },
  {
   "cell_type": "markdown",
   "metadata": {},
   "source": [
    "Considere avaliar\n",
    "\n",
    "$H_0: \\sigma^2_1 = \\sigma^2_2$ contra\n",
    "\n",
    "$H_1: \\sigma^2_1 \\neq \\sigma^2_2$.\n",
    "\n",
    "Usamos a estatística baseada nas variâncias amostrais observadas $s^2_1$ e $s^2_2$.\n",
    "\n",
    "$F = \\displaystyle\\frac{s^2_1}{s^2_2}$\n",
    "\n",
    "$RC = \\{F \\in \\mathbb{R}^+; F < f_{c1} \\mbox{  ou  }  F > f_{c2}\\}$"
   ]
  },
  {
   "cell_type": "code",
   "execution_count": 41,
   "metadata": {},
   "outputs": [
    {
     "name": "stdout",
     "output_type": "stream",
     "text": [
      "RC = {F < 0.43 ou F > 2.4 }\n",
      "Fobs= 0.6\n",
      "Não rejeito H0.\n"
     ]
    }
   ],
   "source": [
    "from scipy.stats import f\n",
    "\n",
    "# Dados do exercício\n",
    "\n",
    "s2_1 = 1500\n",
    "s2_2 = 2500\n",
    "\n",
    "n1 = 26\n",
    "n2 = 21\n",
    "                             \n",
    "Fobs = s2_1 / s2_2\n",
    "\n",
    "fc1 = f.ppf(0.025, n1-1, n2-1)\n",
    "fc2 = f.ppf(0.975, n1-1, n2-1)\n",
    "                             \n",
    "print('RC = {F <', np.round(fc1,2), 'ou F >', np.round(fc2,2), '}')                        \n",
    "print('Fobs=',np.round(Fobs,2))\n",
    "\n",
    "\n",
    "if ((Fobs > fc2) or (Fobs < fc1)) : print ('Rejeito H0')\n",
    "else: print('Não rejeito H0.')"
   ]
  },
  {
   "cell_type": "markdown",
   "metadata": {},
   "source": [
    "## Análise de variância ANOVA"
   ]
  },
  {
   "cell_type": "markdown",
   "metadata": {},
   "source": [
    "Considere o modelo de ANOVA com um fator \n",
    "\n",
    "$$Y_{ij} = \\mu_{i} + \\epsilon_{ij}, i=1,\\ldots,k; j=1,\\ldots,m.$$\n",
    "\n",
    "em que $m$ é o número de observações por grupo e $k$ é o número de grupos.\n",
    "\n",
    "Queremos avaliar se\n",
    "\n",
    "$H_0: \\mu_1=\\mu_2=\\ldots \\mu_k$ contra\n",
    "\n",
    "$H_1:$ pelo menos uma média diferente das outras.\n",
    "\n",
    "Suposições:\n",
    "\n",
    "- $Y_{ij}$ são v.a.'s independentes\n",
    "- Todas as k populações tem variâncias iguais $\\sigma^2$ (homocedasticidade)\n",
    "- $Y_{ij}\\sim N(\\mu, \\sigma^2)$ para $i=1,\\ldots,k$ e $j=1,\\ldots,m$.\n",
    "\n",
    "\n",
    "Exemplo: Deseja-se avaliar se a média de uma métrica de avaliação de desempenho é a mesma em 4 tipos de máquinas diferentes. Para isso, foram realizados testes em 7 máquinas de cada tipo e a métrica foi calculada.\n",
    "\n",
    "Podemos usar a função scipy.stats.f_oneway."
   ]
  },
  {
   "cell_type": "code",
   "execution_count": 42,
   "metadata": {},
   "outputs": [
    {
     "data": {
      "text/html": [
       "<div>\n",
       "<style scoped>\n",
       "    .dataframe tbody tr th:only-of-type {\n",
       "        vertical-align: middle;\n",
       "    }\n",
       "\n",
       "    .dataframe tbody tr th {\n",
       "        vertical-align: top;\n",
       "    }\n",
       "\n",
       "    .dataframe thead th {\n",
       "        text-align: right;\n",
       "    }\n",
       "</style>\n",
       "<table border=\"1\" class=\"dataframe\">\n",
       "  <thead>\n",
       "    <tr style=\"text-align: right;\">\n",
       "      <th></th>\n",
       "      <th>Tipo 1</th>\n",
       "      <th>Tipo 2</th>\n",
       "      <th>Tipo 3</th>\n",
       "      <th>Tipo 4</th>\n",
       "    </tr>\n",
       "  </thead>\n",
       "  <tbody>\n",
       "    <tr>\n",
       "      <th>0</th>\n",
       "      <td>24.9</td>\n",
       "      <td>27.9</td>\n",
       "      <td>38.4</td>\n",
       "      <td>23.8</td>\n",
       "    </tr>\n",
       "    <tr>\n",
       "      <th>1</th>\n",
       "      <td>20.4</td>\n",
       "      <td>28.1</td>\n",
       "      <td>38.6</td>\n",
       "      <td>25.3</td>\n",
       "    </tr>\n",
       "    <tr>\n",
       "      <th>2</th>\n",
       "      <td>24.2</td>\n",
       "      <td>28.4</td>\n",
       "      <td>41.2</td>\n",
       "      <td>23.5</td>\n",
       "    </tr>\n",
       "    <tr>\n",
       "      <th>3</th>\n",
       "      <td>22.3</td>\n",
       "      <td>25.3</td>\n",
       "      <td>43.9</td>\n",
       "      <td>27.6</td>\n",
       "    </tr>\n",
       "    <tr>\n",
       "      <th>4</th>\n",
       "      <td>20.3</td>\n",
       "      <td>29.3</td>\n",
       "      <td>40.2</td>\n",
       "      <td>25.5</td>\n",
       "    </tr>\n",
       "    <tr>\n",
       "      <th>5</th>\n",
       "      <td>24.2</td>\n",
       "      <td>28.5</td>\n",
       "      <td>40.2</td>\n",
       "      <td>23.9</td>\n",
       "    </tr>\n",
       "    <tr>\n",
       "      <th>6</th>\n",
       "      <td>23.5</td>\n",
       "      <td>26.0</td>\n",
       "      <td>37.3</td>\n",
       "      <td>22.6</td>\n",
       "    </tr>\n",
       "  </tbody>\n",
       "</table>\n",
       "</div>"
      ],
      "text/plain": [
       "   Tipo 1  Tipo 2  Tipo 3  Tipo 4\n",
       "0    24.9    27.9    38.4    23.8\n",
       "1    20.4    28.1    38.6    25.3\n",
       "2    24.2    28.4    41.2    23.5\n",
       "3    22.3    25.3    43.9    27.6\n",
       "4    20.3    29.3    40.2    25.5\n",
       "5    24.2    28.5    40.2    23.9\n",
       "6    23.5    26.0    37.3    22.6"
      ]
     },
     "execution_count": 42,
     "metadata": {},
     "output_type": "execute_result"
    }
   ],
   "source": [
    "import pandas as pd\n",
    "\n",
    "dados = pd.read_csv('http://raw.githubusercontent.com/cibelerusso/IntroducaoaInferenciaEstatistica/main/Dados/desempenho.csv', sep=';')\n",
    "dados\n"
   ]
  },
  {
   "cell_type": "code",
   "execution_count": 43,
   "metadata": {},
   "outputs": [
    {
     "data": {
      "text/html": [
       "<div>\n",
       "<style scoped>\n",
       "    .dataframe tbody tr th:only-of-type {\n",
       "        vertical-align: middle;\n",
       "    }\n",
       "\n",
       "    .dataframe tbody tr th {\n",
       "        vertical-align: top;\n",
       "    }\n",
       "\n",
       "    .dataframe thead th {\n",
       "        text-align: right;\n",
       "    }\n",
       "</style>\n",
       "<table border=\"1\" class=\"dataframe\">\n",
       "  <thead>\n",
       "    <tr style=\"text-align: right;\">\n",
       "      <th></th>\n",
       "      <th>Tipo 1</th>\n",
       "      <th>Tipo 2</th>\n",
       "      <th>Tipo 3</th>\n",
       "      <th>Tipo 4</th>\n",
       "    </tr>\n",
       "  </thead>\n",
       "  <tbody>\n",
       "    <tr>\n",
       "      <th>count</th>\n",
       "      <td>7.000000</td>\n",
       "      <td>7.000000</td>\n",
       "      <td>7.000000</td>\n",
       "      <td>7.000000</td>\n",
       "    </tr>\n",
       "    <tr>\n",
       "      <th>mean</th>\n",
       "      <td>22.828571</td>\n",
       "      <td>27.642857</td>\n",
       "      <td>39.971429</td>\n",
       "      <td>24.600000</td>\n",
       "    </tr>\n",
       "    <tr>\n",
       "      <th>std</th>\n",
       "      <td>1.874135</td>\n",
       "      <td>1.444365</td>\n",
       "      <td>2.180760</td>\n",
       "      <td>1.665333</td>\n",
       "    </tr>\n",
       "    <tr>\n",
       "      <th>min</th>\n",
       "      <td>20.300000</td>\n",
       "      <td>25.300000</td>\n",
       "      <td>37.300000</td>\n",
       "      <td>22.600000</td>\n",
       "    </tr>\n",
       "    <tr>\n",
       "      <th>25%</th>\n",
       "      <td>21.350000</td>\n",
       "      <td>26.950000</td>\n",
       "      <td>38.500000</td>\n",
       "      <td>23.650000</td>\n",
       "    </tr>\n",
       "    <tr>\n",
       "      <th>50%</th>\n",
       "      <td>23.500000</td>\n",
       "      <td>28.100000</td>\n",
       "      <td>40.200000</td>\n",
       "      <td>23.900000</td>\n",
       "    </tr>\n",
       "    <tr>\n",
       "      <th>75%</th>\n",
       "      <td>24.200000</td>\n",
       "      <td>28.450000</td>\n",
       "      <td>40.700000</td>\n",
       "      <td>25.400000</td>\n",
       "    </tr>\n",
       "    <tr>\n",
       "      <th>max</th>\n",
       "      <td>24.900000</td>\n",
       "      <td>29.300000</td>\n",
       "      <td>43.900000</td>\n",
       "      <td>27.600000</td>\n",
       "    </tr>\n",
       "  </tbody>\n",
       "</table>\n",
       "</div>"
      ],
      "text/plain": [
       "          Tipo 1     Tipo 2     Tipo 3     Tipo 4\n",
       "count   7.000000   7.000000   7.000000   7.000000\n",
       "mean   22.828571  27.642857  39.971429  24.600000\n",
       "std     1.874135   1.444365   2.180760   1.665333\n",
       "min    20.300000  25.300000  37.300000  22.600000\n",
       "25%    21.350000  26.950000  38.500000  23.650000\n",
       "50%    23.500000  28.100000  40.200000  23.900000\n",
       "75%    24.200000  28.450000  40.700000  25.400000\n",
       "max    24.900000  29.300000  43.900000  27.600000"
      ]
     },
     "execution_count": 43,
     "metadata": {},
     "output_type": "execute_result"
    }
   ],
   "source": [
    "dados.describe()"
   ]
  },
  {
   "cell_type": "code",
   "execution_count": 44,
   "metadata": {},
   "outputs": [
    {
     "data": {
      "text/plain": [
       "<matplotlib.axes._subplots.AxesSubplot at 0x7fc1a90233c8>"
      ]
     },
     "execution_count": 44,
     "metadata": {},
     "output_type": "execute_result"
    },
    {
     "data": {
      "image/png": "[encoded data removed]",
      "text/plain": [
       "<Figure size 432x288 with 1 Axes>"
      ]
     },
     "metadata": {
      "needs_background": "light"
     },
     "output_type": "display_data"
    }
   ],
   "source": [
    "import matplotlib.pyplot as plt\n",
    "\n",
    "dados.plot.box()"
   ]
  },
  {
   "cell_type": "code",
   "execution_count": 45,
   "metadata": {},
   "outputs": [
    {
     "name": "stdout",
     "output_type": "stream",
     "text": [
      "0.1918213963508606 0.2303459644317627 0.6641761660575867 0.5485301613807678\n"
     ]
    }
   ],
   "source": [
    "# Verificando a normalidade dos dados\n",
    "\n",
    "from scipy import stats\n",
    "\n",
    "shapiro_test, p1 = stats.shapiro(dados['Tipo 1'])\n",
    "shapiro_test, p2 = stats.shapiro(dados['Tipo 2'])\n",
    "shapiro_test, p3 = stats.shapiro(dados['Tipo 3'])\n",
    "shapiro_test, p4 = stats.shapiro(dados['Tipo 4'])\n",
    "\n",
    "print(p1, p2, p3, p4)\n",
    "\n",
    "# Vamos supor, para a aplicação do teste, que é razoável supor a normalidade e que os dados tem a mesma variância - "
   ]
  },
  {
   "cell_type": "code",
   "execution_count": 46,
   "metadata": {},
   "outputs": [
    {
     "name": "stdout",
     "output_type": "stream",
     "text": [
      "127.57033517121309 6.9854128881896056e-15\n"
     ]
    }
   ],
   "source": [
    "from scipy.stats import f_oneway\n",
    "\n",
    "F, p = f_oneway(dados['Tipo 1'], dados['Tipo 2'], dados['Tipo 3'], dados['Tipo 4'])\n",
    "\n",
    "print(F, p)"
   ]
  },
  {
   "cell_type": "code",
   "execution_count": 47,
   "metadata": {},
   "outputs": [
    {
     "data": {
      "text/html": [
       "<div>\n",
       "<style scoped>\n",
       "    .dataframe tbody tr th:only-of-type {\n",
       "        vertical-align: middle;\n",
       "    }\n",
       "\n",
       "    .dataframe tbody tr th {\n",
       "        vertical-align: top;\n",
       "    }\n",
       "\n",
       "    .dataframe thead th {\n",
       "        text-align: right;\n",
       "    }\n",
       "</style>\n",
       "<table border=\"1\" class=\"dataframe\">\n",
       "  <thead>\n",
       "    <tr style=\"text-align: right;\">\n",
       "      <th></th>\n",
       "      <th>index</th>\n",
       "      <th>Tipo</th>\n",
       "      <th>Métrica</th>\n",
       "    </tr>\n",
       "  </thead>\n",
       "  <tbody>\n",
       "    <tr>\n",
       "      <th>0</th>\n",
       "      <td>0</td>\n",
       "      <td>Tipo 1</td>\n",
       "      <td>24.9</td>\n",
       "    </tr>\n",
       "    <tr>\n",
       "      <th>1</th>\n",
       "      <td>1</td>\n",
       "      <td>Tipo 1</td>\n",
       "      <td>20.4</td>\n",
       "    </tr>\n",
       "    <tr>\n",
       "      <th>2</th>\n",
       "      <td>2</td>\n",
       "      <td>Tipo 1</td>\n",
       "      <td>24.2</td>\n",
       "    </tr>\n",
       "    <tr>\n",
       "      <th>3</th>\n",
       "      <td>3</td>\n",
       "      <td>Tipo 1</td>\n",
       "      <td>22.3</td>\n",
       "    </tr>\n",
       "    <tr>\n",
       "      <th>4</th>\n",
       "      <td>4</td>\n",
       "      <td>Tipo 1</td>\n",
       "      <td>20.3</td>\n",
       "    </tr>\n",
       "    <tr>\n",
       "      <th>5</th>\n",
       "      <td>5</td>\n",
       "      <td>Tipo 1</td>\n",
       "      <td>24.2</td>\n",
       "    </tr>\n",
       "    <tr>\n",
       "      <th>6</th>\n",
       "      <td>6</td>\n",
       "      <td>Tipo 1</td>\n",
       "      <td>23.5</td>\n",
       "    </tr>\n",
       "    <tr>\n",
       "      <th>7</th>\n",
       "      <td>0</td>\n",
       "      <td>Tipo 2</td>\n",
       "      <td>27.9</td>\n",
       "    </tr>\n",
       "    <tr>\n",
       "      <th>8</th>\n",
       "      <td>1</td>\n",
       "      <td>Tipo 2</td>\n",
       "      <td>28.1</td>\n",
       "    </tr>\n",
       "    <tr>\n",
       "      <th>9</th>\n",
       "      <td>2</td>\n",
       "      <td>Tipo 2</td>\n",
       "      <td>28.4</td>\n",
       "    </tr>\n",
       "    <tr>\n",
       "      <th>10</th>\n",
       "      <td>3</td>\n",
       "      <td>Tipo 2</td>\n",
       "      <td>25.3</td>\n",
       "    </tr>\n",
       "    <tr>\n",
       "      <th>11</th>\n",
       "      <td>4</td>\n",
       "      <td>Tipo 2</td>\n",
       "      <td>29.3</td>\n",
       "    </tr>\n",
       "    <tr>\n",
       "      <th>12</th>\n",
       "      <td>5</td>\n",
       "      <td>Tipo 2</td>\n",
       "      <td>28.5</td>\n",
       "    </tr>\n",
       "    <tr>\n",
       "      <th>13</th>\n",
       "      <td>6</td>\n",
       "      <td>Tipo 2</td>\n",
       "      <td>26.0</td>\n",
       "    </tr>\n",
       "    <tr>\n",
       "      <th>14</th>\n",
       "      <td>0</td>\n",
       "      <td>Tipo 3</td>\n",
       "      <td>38.4</td>\n",
       "    </tr>\n",
       "    <tr>\n",
       "      <th>15</th>\n",
       "      <td>1</td>\n",
       "      <td>Tipo 3</td>\n",
       "      <td>38.6</td>\n",
       "    </tr>\n",
       "    <tr>\n",
       "      <th>16</th>\n",
       "      <td>2</td>\n",
       "      <td>Tipo 3</td>\n",
       "      <td>41.2</td>\n",
       "    </tr>\n",
       "    <tr>\n",
       "      <th>17</th>\n",
       "      <td>3</td>\n",
       "      <td>Tipo 3</td>\n",
       "      <td>43.9</td>\n",
       "    </tr>\n",
       "    <tr>\n",
       "      <th>18</th>\n",
       "      <td>4</td>\n",
       "      <td>Tipo 3</td>\n",
       "      <td>40.2</td>\n",
       "    </tr>\n",
       "    <tr>\n",
       "      <th>19</th>\n",
       "      <td>5</td>\n",
       "      <td>Tipo 3</td>\n",
       "      <td>40.2</td>\n",
       "    </tr>\n",
       "    <tr>\n",
       "      <th>20</th>\n",
       "      <td>6</td>\n",
       "      <td>Tipo 3</td>\n",
       "      <td>37.3</td>\n",
       "    </tr>\n",
       "    <tr>\n",
       "      <th>21</th>\n",
       "      <td>0</td>\n",
       "      <td>Tipo 4</td>\n",
       "      <td>23.8</td>\n",
       "    </tr>\n",
       "    <tr>\n",
       "      <th>22</th>\n",
       "      <td>1</td>\n",
       "      <td>Tipo 4</td>\n",
       "      <td>25.3</td>\n",
       "    </tr>\n",
       "    <tr>\n",
       "      <th>23</th>\n",
       "      <td>2</td>\n",
       "      <td>Tipo 4</td>\n",
       "      <td>23.5</td>\n",
       "    </tr>\n",
       "    <tr>\n",
       "      <th>24</th>\n",
       "      <td>3</td>\n",
       "      <td>Tipo 4</td>\n",
       "      <td>27.6</td>\n",
       "    </tr>\n",
       "    <tr>\n",
       "      <th>25</th>\n",
       "      <td>4</td>\n",
       "      <td>Tipo 4</td>\n",
       "      <td>25.5</td>\n",
       "    </tr>\n",
       "    <tr>\n",
       "      <th>26</th>\n",
       "      <td>5</td>\n",
       "      <td>Tipo 4</td>\n",
       "      <td>23.9</td>\n",
       "    </tr>\n",
       "    <tr>\n",
       "      <th>27</th>\n",
       "      <td>6</td>\n",
       "      <td>Tipo 4</td>\n",
       "      <td>22.6</td>\n",
       "    </tr>\n",
       "  </tbody>\n",
       "</table>\n",
       "</div>"
      ],
      "text/plain": [
       "    index    Tipo  Métrica\n",
       "0       0  Tipo 1     24.9\n",
       "1       1  Tipo 1     20.4\n",
       "2       2  Tipo 1     24.2\n",
       "3       3  Tipo 1     22.3\n",
       "4       4  Tipo 1     20.3\n",
       "5       5  Tipo 1     24.2\n",
       "6       6  Tipo 1     23.5\n",
       "7       0  Tipo 2     27.9\n",
       "8       1  Tipo 2     28.1\n",
       "9       2  Tipo 2     28.4\n",
       "10      3  Tipo 2     25.3\n",
       "11      4  Tipo 2     29.3\n",
       "12      5  Tipo 2     28.5\n",
       "13      6  Tipo 2     26.0\n",
       "14      0  Tipo 3     38.4\n",
       "15      1  Tipo 3     38.6\n",
       "16      2  Tipo 3     41.2\n",
       "17      3  Tipo 3     43.9\n",
       "18      4  Tipo 3     40.2\n",
       "19      5  Tipo 3     40.2\n",
       "20      6  Tipo 3     37.3\n",
       "21      0  Tipo 4     23.8\n",
       "22      1  Tipo 4     25.3\n",
       "23      2  Tipo 4     23.5\n",
       "24      3  Tipo 4     27.6\n",
       "25      4  Tipo 4     25.5\n",
       "26      5  Tipo 4     23.9\n",
       "27      6  Tipo 4     22.6"
      ]
     },
     "execution_count": 47,
     "metadata": {},
     "output_type": "execute_result"
    }
   ],
   "source": [
    "# Tabela ANOVA - Com base de dados expandida\n",
    "\n",
    "from statsmodels.formula.api import ols\n",
    "import statsmodels.api as sm\n",
    "\n",
    "# Fonte: https://www.reneshbedre.com/blog/anova.html\n",
    "# reshape the d dataframe suitable for statsmodels package \n",
    "dados_melt = pd.melt(dados.reset_index(), id_vars=['index'], value_vars=['Tipo 1', 'Tipo 2', 'Tipo 3', 'Tipo 4'])\n",
    "# replace column names\n",
    "dados_melt.columns = ['index', 'Tipo', 'Métrica']\n",
    "dados_melt"
   ]
  },
  {
   "cell_type": "code",
   "execution_count": 48,
   "metadata": {},
   "outputs": [
    {
     "data": {
      "text/plain": [
       "<matplotlib.axes._subplots.AxesSubplot at 0x7fc1a6674470>"
      ]
     },
     "execution_count": 48,
     "metadata": {},
     "output_type": "execute_result"
    },
    {
     "data": {
      "image/png": "[encoded data removed]",
      "text/plain": [
       "<Figure size 432x288 with 1 Axes>"
      ]
     },
     "metadata": {
      "needs_background": "light"
     },
     "output_type": "display_data"
    }
   ],
   "source": [
    "import seaborn as sns\n",
    "\n",
    "sns.boxplot(data=dados_melt, y='Métrica', x='Tipo')"
   ]
  },
  {
   "cell_type": "code",
   "execution_count": 49,
   "metadata": {},
   "outputs": [
    {
     "data": {
      "text/html": [
       "<div>\n",
       "<style scoped>\n",
       "    .dataframe tbody tr th:only-of-type {\n",
       "        vertical-align: middle;\n",
       "    }\n",
       "\n",
       "    .dataframe tbody tr th {\n",
       "        vertical-align: top;\n",
       "    }\n",
       "\n",
       "    .dataframe thead th {\n",
       "        text-align: right;\n",
       "    }\n",
       "</style>\n",
       "<table border=\"1\" class=\"dataframe\">\n",
       "  <thead>\n",
       "    <tr style=\"text-align: right;\">\n",
       "      <th></th>\n",
       "      <th>sum_sq</th>\n",
       "      <th>df</th>\n",
       "      <th>F</th>\n",
       "      <th>PR(&gt;F)</th>\n",
       "    </tr>\n",
       "  </thead>\n",
       "  <tbody>\n",
       "    <tr>\n",
       "      <th>C(Tipo)</th>\n",
       "      <td>1256.021071</td>\n",
       "      <td>3.0</td>\n",
       "      <td>127.570335</td>\n",
       "      <td>6.985413e-15</td>\n",
       "    </tr>\n",
       "    <tr>\n",
       "      <th>Residual</th>\n",
       "      <td>78.765714</td>\n",
       "      <td>24.0</td>\n",
       "      <td>NaN</td>\n",
       "      <td>NaN</td>\n",
       "    </tr>\n",
       "  </tbody>\n",
       "</table>\n",
       "</div>"
      ],
      "text/plain": [
       "               sum_sq    df           F        PR(>F)\n",
       "C(Tipo)   1256.021071   3.0  127.570335  6.985413e-15\n",
       "Residual    78.765714  24.0         NaN           NaN"
      ]
     },
     "execution_count": 49,
     "metadata": {},
     "output_type": "execute_result"
    }
   ],
   "source": [
    "# Ordinary Least Squares (OLS) model\n",
    "model = ols('Métrica ~ C(Tipo)', data=dados_melt).fit()\n",
    "anova_table = sm.stats.anova_lm(model, typ=2)\n",
    "anova_table"
   ]
  },
  {
   "cell_type": "markdown",
   "metadata": {},
   "source": [
    "**Conclusão: Temos fortes evidências na amostra para rejeitar que as médias das métricas podem ser consideradas iguais.**"
   ]
  },
  {
   "cell_type": "code",
   "execution_count": null,
   "metadata": {},
   "outputs": [],
   "source": []
  },
  {
   "cell_type": "code",
   "execution_count": null,
   "metadata": {},
   "outputs": [],
   "source": []
  }
 ],
 "metadata": {
  "colab": {
   "collapsed_sections": [],
   "name": "Testes de Hipóteses.ipynb",
   "provenance": []
  },
  "kernelspec": {
   "display_name": "Python 3",
   "language": "python",
   "name": "python3"
  },
  "language_info": {
   "codemirror_mode": {
    "name": "ipython",
    "version": 3
   },
   "file_extension": ".py",
   "mimetype": "text/x-python",
   "name": "python",
   "nbconvert_exporter": "python",
   "pygments_lexer": "ipython3",
   "version": "3.7.3"
  }
 },
 "nbformat": 4,
 "nbformat_minor": 1
}
