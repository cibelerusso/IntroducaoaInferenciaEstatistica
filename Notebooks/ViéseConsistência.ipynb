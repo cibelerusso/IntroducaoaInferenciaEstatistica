{
 "cells": [
  {
   "cell_type": "markdown",
   "metadata": {
    "id": "THLu9ZgJDzBY"
   },
   "source": [
    "# Viés e consistência de estimadores\n",
    "### SME0221 Inferência Estatística\n",
    "\n",
    "por **Cibele Russo**\n",
    "\n",
    "**ICMC/USP - São Carlos SP**\n",
    "\n",
    "\n",
    "\n"
   ]
  },
  {
   "cell_type": "markdown",
   "metadata": {},
   "source": [
    "# Propriedades dos Estimadores\n",
    "\n",
    "\n",
    "## Estimador Não Viesado\n",
    "\n",
    "A primeira propriedade que discutiremos é o **viés** do estimador. Um estimador $ \\hat{\\theta} $ é dito **não viesado** para estimar um parâmetro $ \\theta $ se o seu valor esperado for igual ao próprio parâmetro:\n",
    "\n",
    "$\n",
    "E[\\hat{\\theta}] = \\theta\n",
    "$\n",
    "\n",
    "Ou seja, um estimador é não viesado se, em média, ele não tende a superestimar nem subestimar o valor verdadeiro do parâmetro.\n",
    "\n",
    "## Viés do Estimador\n",
    "\n",
    "Se um estimador $ \\hat{\\theta} $ não satisfaz a condição anterior, dizemos que ele possui um **viés**, definido como:\n",
    "\n",
    "$\n",
    "b(\\hat{\\theta}) = E[\\hat{\\theta}] - \\theta\n",
    "$\n",
    "\n",
    "Se $ b(\\hat{\\theta}) = 0 $, então $ \\hat{\\theta} $ é um estimador não viesado. Caso contrário, o estimador apresenta um viés sistemático na estimativa do parâmetro $ \\theta $.\n",
    "\n",
    "## Consistência do Estimador\n",
    "\n",
    "Outra propriedade importante é a **consistência**. Para definir essa propriedade, consideramos uma sequência de estimadores $ \\hat{\\theta}_n $ que varia com o tamanho da amostra $ n $. Queremos entender o comportamento do estimador quando $ n $ cresce.\n",
    "\n",
    "Um estimador $ \\hat{\\theta}_n $ é **consistente** se, para qualquer $ \\varepsilon > 0 $, a seguinte probabilidade tende a zero conforme $ n $ cresce:\n",
    "\n",
    "$\n",
    "P(|\\hat{\\theta}_n - \\theta| \\geq \\varepsilon) \\to 0 \\text{ quando } n \\to \\infty\n",
    "$\n",
    "\n",
    "Isso significa que, à medida que aumentamos o tamanho da amostra, o estimador se aproxima do verdadeiro valor do parâmetro.\n",
    "\n",
    "## Critério Prático para Consistência\n",
    "\n",
    "Para verificar a consistência de um estimador na prática, podemos utilizar a seguinte proposição:\n",
    "\n",
    "Um estimador $ \\hat{\\theta}_n $ é consistente se satisfaz simultaneamente as seguintes condições:\n",
    "\n",
    "1. O valor esperado converge para o verdadeiro parâmetro:\n",
    "\n",
    "   $\n",
    "   \\lim_{n \\to \\infty} E[\\hat{\\theta}_n] = \\theta\n",
    "   $\n",
    "\n",
    "   Ou seja, no limite, o estimador não é viesado.\n",
    "\n",
    "2. A variância do estimador tende a zero:\n",
    "\n",
    "   $\n",
    "   \\lim_{n \\to \\infty} Var(\\hat{\\theta}_n) = 0\n",
    "   $\n",
    "\n",
    "   Isso garante que, conforme $ n $ cresce, a dispersão do estimador diminui e ele se concentra em torno de $ \\theta $.\n",
    "\n",
    "Se essas duas condições forem satisfeitas, então $ \\hat{\\theta}_n $ é um estimador consistente para $ \\theta $.\n"
   ]
  },
  {
   "cell_type": "code",
   "execution_count": 2,
   "metadata": {},
   "outputs": [
    {
     "data": {
      "image/png": "[encoded data removed]",
      "text/plain": [
       "<Figure size 864x576 with 6 Axes>"
      ]
     },
     "metadata": {
      "needs_background": "light"
     },
     "output_type": "display_data"
    }
   ],
   "source": [
    "# Ilustrando o viés e consistência de estimadores via simulação\n",
    "\n",
    "import numpy as np\n",
    "import matplotlib.pyplot as plt\n",
    "\n",
    "# fixando a semente\n",
    "np.random.seed(123)\n",
    "\n",
    "# Vamos simular amostras de distribuição normal\n",
    "mu = 0    # média populacional\n",
    "sigma = 5 # desvio padrão populacional\n",
    "n_simulations = 1000  # número de simulações\n",
    "n_values = [10, 100, 500]  # diferentes tamanhos de amostra\n",
    "\n",
    "# Função para simular e calcular os estimadores\n",
    "def simula_estimadores(n, n_simulations):\n",
    "    media_amostral = np.zeros(n_simulations)\n",
    "    primeiro_valor = np.zeros(n_simulations)\n",
    "\n",
    "    for i in range(n_simulations):\n",
    "        amostra = np.random.normal(mu, sigma, n)\n",
    "        media_amostral[i] = np.mean(amostra)\n",
    "        primeiro_valor[i] = amostra[0]\n",
    "\n",
    "    return media_amostral, primeiro_valor\n",
    "\n",
    "# Gráficos de viés e consistência\n",
    "plt.figure(figsize=(12, 8))\n",
    "\n",
    "# Para diferentes tamanhos de amostra\n",
    "for n in n_values:\n",
    "    # Simulando os estimadores\n",
    "    media_amostral, primeiro_valor = simula_estimadores(n, n_simulations)\n",
    "\n",
    "    # Calculando o viés dos estimadores\n",
    "    viés_media_amostral = np.mean(media_amostral) - mu\n",
    "    viés_primeiro_valor = np.mean(primeiro_valor) - mu\n",
    "\n",
    "    # Gráfico de viés\n",
    "    plt.subplot(2, len(n_values), n_values.index(n) + 1)\n",
    "    plt.bar(['Média Amostral', 'Primeiro Valor'], [viés_media_amostral, viés_primeiro_valor], color=['blue', 'orange'])\n",
    "    plt.title(f'Viés para n={n}')\n",
    "    plt.ylabel('Viés')\n",
    "\n",
    "    # Variância (para testar consistência)\n",
    "    var_media_amostral = np.var(media_amostral)\n",
    "    var_primeiro_valor = np.var(primeiro_valor)\n",
    "\n",
    "    # Gráfico de variância\n",
    "    plt.subplot(2, len(n_values), len(n_values) + n_values.index(n) + 1)\n",
    "    plt.bar(['Média Amostral', 'Único Valor'], [var_media_amostral, var_primeiro_valor], color=['blue', 'orange'])\n",
    "    plt.title(f'Variância para n={n}')\n",
    "    plt.ylabel('Variância')\n",
    "\n",
    "plt.tight_layout()\n",
    "plt.show()\n"
   ]
  },
  {
   "cell_type": "code",
   "execution_count": null,
   "metadata": {},
   "outputs": [],
   "source": []
  }
 ],
 "metadata": {
  "colab": {
   "collapsed_sections": [],
   "name": "Estimação_Intervalar.ipynb",
   "provenance": []
  },
  "kernelspec": {
   "display_name": "Python 3 (ipykernel)",
   "language": "python",
   "name": "python3"
  },
  "language_info": {
   "codemirror_mode": {
    "name": "ipython",
    "version": 3
   },
   "file_extension": ".py",
   "mimetype": "text/x-python",
   "name": "python",
   "nbconvert_exporter": "python",
   "pygments_lexer": "ipython3",
   "version": "3.10.12"
  }
 },
 "nbformat": 4,
 "nbformat_minor": 1
}
